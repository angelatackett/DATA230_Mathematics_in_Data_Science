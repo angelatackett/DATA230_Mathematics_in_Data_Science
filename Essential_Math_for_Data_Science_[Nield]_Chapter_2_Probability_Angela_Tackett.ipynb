{
  "nbformat": 4,
  "nbformat_minor": 0,
  "metadata": {
    "colab": {
      "provenance": [],
      "include_colab_link": true
    },
    "kernelspec": {
      "name": "python3",
      "display_name": "Python 3"
    },
    "language_info": {
      "name": "python"
    }
  },
  "cells": [
    {
      "cell_type": "markdown",
      "metadata": {
        "id": "view-in-github",
        "colab_type": "text"
      },
      "source": [
        "<a href=\"https://colab.research.google.com/github/angelatackett/Mathematics-for-Data-Science---DATA230/blob/main/Essential_Math_for_Data_Science_%5BNield%5D_Chapter_2_Probability_Angela_Tackett.ipynb\" target=\"_parent\"><img src=\"https://colab.research.google.com/assets/colab-badge.svg\" alt=\"Open In Colab\"/></a>"
      ]
    },
    {
      "cell_type": "markdown",
      "source": [
        "# Instructions"
      ],
      "metadata": {
        "id": "CRNT99IsybbR"
      }
    },
    {
      "cell_type": "markdown",
      "source": [
        "In this assignment, you will be asked to demonstrate your understanding of probability concepts as covered in Chapter 2 of *Essential Math for Data Science* by Thomas Nield.\n"
      ],
      "metadata": {
        "id": "eS_tWt3pyfY0"
      }
    },
    {
      "cell_type": "markdown",
      "source": [
        "# Problem 1"
      ],
      "metadata": {
        "id": "gwgEMFWUye2V"
      }
    },
    {
      "cell_type": "markdown",
      "source": [
        "A survey of 500 people was conducted to determine how many people own a pet, and how many people own a car. The results showed that 300 people own a pet, 150 people own a car, and 100 people own both a pet and a car. What is the probability that a randomly selected person owns a pet or a car?"
      ],
      "metadata": {
        "id": "uup1-p-9ynPr"
      }
    },
    {
      "cell_type": "markdown",
      "source": [
        "Step 1. Define the necessary variables."
      ],
      "metadata": {
        "id": "Xc387Jk0IoBU"
      }
    },
    {
      "cell_type": "code",
      "source": [
        "total_people = 500\n",
        "pet_owners = 300\n",
        "car_owners = 150\n",
        "both_owners = 100"
      ],
      "metadata": {
        "id": "tdYBZjhuIr2o"
      },
      "execution_count": null,
      "outputs": []
    },
    {
      "cell_type": "markdown",
      "source": [
        "Step 2. In the book, you should read more about the \"sum rule of probability\" that ensures every joint event is only counted once. P(A or B) = P(A) + P(B) - P(A and B) where P(A) is the probability of owning a pet, P(B) is the probability of owning a car, and P(A and B) is the probability of owning both a pet and a car. Enter the equation below."
      ],
      "metadata": {
        "id": "fBmqO1uqIWmY"
      }
    },
    {
      "cell_type": "code",
      "source": [
        "p_pet_or_car = pet_owners/total_people + car_owners/total_people - pet_owners/total_people * car_owners/total_people\n",
        "print(\"The probability of owning a pet or a car is:\", p_pet_or_car)"
      ],
      "metadata": {
        "id": "UlxkQDB1I1e0",
        "colab": {
          "base_uri": "https://localhost:8080/"
        },
        "outputId": "905d0451-a840-45b3-9d39-6fd39455d9bb"
      },
      "execution_count": null,
      "outputs": [
        {
          "output_type": "stream",
          "name": "stdout",
          "text": [
            "The probability of owning a pet or a car is: 0.72\n"
          ]
        }
      ]
    },
    {
      "cell_type": "markdown",
      "source": [
        "# Problem 2"
      ],
      "metadata": {
        "id": "2f-oZbX28ouh"
      }
    },
    {
      "cell_type": "markdown",
      "source": [
        "Continue problem 1: A survey was conducted to determine the probability of a person owning a car given that the person owns a pet. The results showed that 100 out of 300 pet owners also own a car. What is the probability that a randomly selected person owns a pet and a car?\n"
      ],
      "metadata": {
        "id": "A7xe6sMK8uPq"
      }
    },
    {
      "cell_type": "markdown",
      "source": [
        "Step 1. Define the necessary variables"
      ],
      "metadata": {
        "id": "Yw5envS78mg2"
      }
    },
    {
      "cell_type": "code",
      "source": [
        "total_people = 500\n",
        "pet_owners = 300\n",
        "car_owners = 150\n",
        "both_owners = 100"
      ],
      "metadata": {
        "id": "nPJR7ewhLXXp"
      },
      "execution_count": null,
      "outputs": []
    },
    {
      "cell_type": "markdown",
      "source": [
        "Step 2. Find the probability of people who own both car and pet and another to calculate the probability of pet owners.\n"
      ],
      "metadata": {
        "id": "7d28DAXKLa3v"
      }
    },
    {
      "cell_type": "code",
      "source": [
        "p_pet_and_car = pet_owners/total_people * car_owners/total_people\n",
        "print(p_pet_and_car)\n",
        "p_pet_owners  = pet_owners/total_people\n",
        "print(p_pet_owners)"
      ],
      "metadata": {
        "id": "M9ir59IgMATb",
        "colab": {
          "base_uri": "https://localhost:8080/"
        },
        "outputId": "c3219ee1-4054-4538-c248-730fa8eb109d"
      },
      "execution_count": null,
      "outputs": [
        {
          "output_type": "stream",
          "name": "stdout",
          "text": [
            "0.18\n",
            "0.6\n"
          ]
        }
      ]
    },
    {
      "cell_type": "markdown",
      "source": [
        "Step 3. Calculate the probability of a person owning a car given that the person owns a pet, we can use the formula:\n",
        "\n",
        "P(car|pet) = P(car and pet) / P(pet)"
      ],
      "metadata": {
        "id": "DR15iFnaMBtb"
      }
    },
    {
      "cell_type": "code",
      "source": [
        "p_car_given_pet= p_pet_and_car / p_pet_owners\n",
        "print(\"Probability of owning a car given that the person owns a pet: %.3f\" %p_car_given_pet)"
      ],
      "metadata": {
        "id": "GLQafJzCMCC9",
        "colab": {
          "base_uri": "https://localhost:8080/"
        },
        "outputId": "b2b91d3a-464b-4787-9ede-3393519cafc9"
      },
      "execution_count": null,
      "outputs": [
        {
          "output_type": "stream",
          "name": "stdout",
          "text": [
            "Probability of owning a car given that the person owns a pet: 0.300\n"
          ]
        }
      ]
    },
    {
      "cell_type": "markdown",
      "source": [
        "# Problem 3"
      ],
      "metadata": {
        "id": "Qh4pyRlpyobQ"
      }
    },
    {
      "cell_type": "markdown",
      "source": [
        "A company has two factories that produce the same product. Factory 1 produces 60% of the products, while Factory 2 produces 40% of the products. Of the products produced by Factory 1, 5% are defective, while of the products produced by Factory 2, 3% are defective. Answer these two questions:\n",
        "1. What is the probability that a randomly selected product is defective?\n",
        "2. What is the probability that the selected defective product is from Factory 1?"
      ],
      "metadata": {
        "id": "OH-tDHLCyoz2"
      }
    },
    {
      "cell_type": "markdown",
      "source": [
        "Step 1. Define the probabilities and conditional probabilities."
      ],
      "metadata": {
        "id": "akjIMWtIO46k"
      }
    },
    {
      "cell_type": "code",
      "source": [
        "P_F1 =  .6 # Probability of selecting from Factory 1\n",
        "P_F2 =  .4 # Probability of selecting from Factory 2\n",
        "P_D_given_F1 = .05  # Probability of selecting a defective product given Factory 1\n",
        "P_D_given_F2 = .03  # Probability of selecting a defective product given Factory 2"
      ],
      "metadata": {
        "id": "nQBfY9T8PANf"
      },
      "execution_count": null,
      "outputs": []
    },
    {
      "cell_type": "markdown",
      "source": [
        "Step 2. Calculate the overall probability of selecting a defective product.\n",
        "\n",
        "To solve this problem, we can use the law of total probability. We can break down the probability of a randomly selected product being defective into two cases: the probability that the product came from Factory 1 and is defective, and the probability that the product came from Factory 2 and is defective. We can then add these two probabilities to get the total probability of a randomly selected product being defective.\n",
        "\n",
        " Let D be the event that a product is defective, F1 be the event that a product came from Factory 1, and F2 be the event that a product came from Factory 2. We want to find P(D), the probability that a randomly selected product is defective.\n",
        "\n",
        "Using the law of total probability, we have:\n",
        "\n",
        "P(D) = P(D|F1)P(F1) + P(D|F2)P(F2)"
      ],
      "metadata": {
        "id": "krDPSlsPPFho"
      }
    },
    {
      "cell_type": "code",
      "source": [
        "P_D = P_D_given_F1 * P_F1 + P_D_given_F2 * P_F2\n",
        "print(\"The probability that a randomly selected product is defective: %.3f\" %P_D)"
      ],
      "metadata": {
        "id": "hskxhXoEPL_6",
        "colab": {
          "base_uri": "https://localhost:8080/"
        },
        "outputId": "13931e23-6966-4ea0-fa34-5c563d61af81"
      },
      "execution_count": null,
      "outputs": [
        {
          "output_type": "stream",
          "name": "stdout",
          "text": [
            "The probability that a randomly selected product is defective: 0.042\n"
          ]
        }
      ]
    },
    {
      "cell_type": "markdown",
      "source": [
        "Step 3. Calculate the conditional probability of selecting a defective product from Factory 1.\n",
        "\n",
        "P_F1_given_D = (P_F1 * P_D_given_F1) / P_D"
      ],
      "metadata": {
        "id": "AIBYOfNNPP-Z"
      }
    },
    {
      "cell_type": "code",
      "source": [
        "P_F1_given_D = (P_F1 * P_D_given_F1) / P_D"
      ],
      "metadata": {
        "id": "WiHQOmpfT-oi"
      },
      "execution_count": null,
      "outputs": []
    },
    {
      "cell_type": "code",
      "source": [
        "# Print the result\n",
        "print(\"The probability that the selected defective product is from Factory 1 is: %.3f\" %P_F1_given_D)"
      ],
      "metadata": {
        "id": "0LOrkSSsVQQW",
        "colab": {
          "base_uri": "https://localhost:8080/"
        },
        "outputId": "9533450e-6148-4263-b337-c85415c40371"
      },
      "execution_count": null,
      "outputs": [
        {
          "output_type": "stream",
          "name": "stdout",
          "text": [
            "The probability that the selected defective product is from Factory 1 is: 0.714\n"
          ]
        }
      ]
    },
    {
      "cell_type": "markdown",
      "source": [
        "# Problem 4"
      ],
      "metadata": {
        "id": "Wd1CyHRVyqt1"
      }
    },
    {
      "cell_type": "markdown",
      "source": [
        "A company has three departments: Marketing, Finance, and IT. There are 10 employees in the Marketing department, 7 employees in the Finance department, and 8 employees in the IT department. A company event is being planned, and the organizer wants to select 6 employees from the company to form a team. What is the probability that the selected team will have at least one employee from each department?\n",
        "This question is a little bit complicated. This is how we will tackle it:\n",
        "\n",
        "1. You need to find ALL the possible combinations of different ways to select 6 employees from the whole company.\n",
        "\n",
        "2. Then you need to find ALL the possible combinations of different ways to select the 6 employees so there is at least 1 employee from each of the three departments.\n",
        "\n",
        "3. Take the ratio of the two counts of combinations will be the answer."
      ],
      "metadata": {
        "id": "4xYjTUGmyq5z"
      }
    },
    {
      "cell_type": "markdown",
      "source": [
        "Step 1. You'll need to use the library itertools."
      ],
      "metadata": {
        "id": "pAe1qZ6cbnhC"
      }
    },
    {
      "cell_type": "code",
      "source": [
        "import itertools"
      ],
      "metadata": {
        "id": "MiMgPlYpb0_O"
      },
      "execution_count": null,
      "outputs": []
    },
    {
      "cell_type": "markdown",
      "source": [
        "Step 2. Enter the number of employees in each department."
      ],
      "metadata": {
        "id": "Q9iSAdO_b2-y"
      }
    },
    {
      "cell_type": "code",
      "source": [
        "marketing_employees = 10\n",
        "finance_employees = 7\n",
        "it_employees = 8"
      ],
      "metadata": {
        "id": "_b4YqIh2b-mh"
      },
      "execution_count": null,
      "outputs": []
    },
    {
      "cell_type": "markdown",
      "source": [
        "Step 3. Enter the total number of employees in the company"
      ],
      "metadata": {
        "id": "oSyy2d22cA3x"
      }
    },
    {
      "cell_type": "code",
      "source": [
        "total_employees = 25"
      ],
      "metadata": {
        "id": "T0QXnAEzcF3Z"
      },
      "execution_count": null,
      "outputs": []
    },
    {
      "cell_type": "markdown",
      "source": [
        "Step 4. Create every combination to select 6 employees from the company. You will be using itertools.combinations. We've provided you with the code below, you need to enter the variable in the range and the number of combinations we want. Change the values where you see a question mark (?)."
      ],
      "metadata": {
        "id": "r88jPvegcIHP"
      }
    },
    {
      "cell_type": "code",
      "source": [
        "total_combinations = len(list(itertools.combinations(range(25), 6)))\n",
        "print(\"total_combinations=\", total_combinations)"
      ],
      "metadata": {
        "id": "DD-TxoQiccp6",
        "colab": {
          "base_uri": "https://localhost:8080/"
        },
        "outputId": "6f9205e4-e5d6-4a8b-a1da-e34e4534b9d1"
      },
      "execution_count": null,
      "outputs": [
        {
          "output_type": "stream",
          "name": "stdout",
          "text": [
            "total_combinations= 177100\n"
          ]
        }
      ]
    },
    {
      "cell_type": "markdown",
      "source": [
        "Step 5. Calculate the total number of ways to select 6 employees with at least one from each department. In the code below, set each variable to zero. For each selection, enter the appropriate department variable in the code below (where you see the question marks below)."
      ],
      "metadata": {
        "id": "SlutcIIIdwbm"
      }
    },
    {
      "cell_type": "code",
      "source": [
        "department_combinations = 0\n",
        "ma= 0\n",
        "fi= 0\n",
        "it= 0\n",
        "\n",
        "for ma in range(0, 7):\n",
        "    for fi in range(0, 7):\n",
        "        for it in range(0, 7):\n",
        "            if ma + fi + it == 6:\n",
        "                # count the number of combinations for this combination of employees\n",
        "                marketing_selections = len(list(itertools.combinations(range(10), ma)))\n",
        "                finance_selections = len(list(itertools.combinations(range(7), fi)))\n",
        "                it_selections = len(list(itertools.combinations(range(8), it)))\n",
        "                if (ma>=1 and fi>=1 and it>=1):\n",
        "                    department_combinations += marketing_selections * finance_selections * it_selections\n",
        "                    print(\"(marketing, finance, it)= %i %i %i\" %(ma,fi,it), \"department_combinations=\", department_combinations)\n"
      ],
      "metadata": {
        "id": "tZsHWvpldwFw",
        "colab": {
          "base_uri": "https://localhost:8080/"
        },
        "outputId": "9c167b14-3e03-412b-9e43-94b39d69ec16"
      },
      "execution_count": null,
      "outputs": [
        {
          "output_type": "stream",
          "name": "stdout",
          "text": [
            "(marketing, finance, it)= 1 1 4 department_combinations= 4900\n",
            "(marketing, finance, it)= 1 2 3 department_combinations= 16660\n",
            "(marketing, finance, it)= 1 3 2 department_combinations= 26460\n",
            "(marketing, finance, it)= 1 4 1 department_combinations= 29260\n",
            "(marketing, finance, it)= 2 1 3 department_combinations= 46900\n",
            "(marketing, finance, it)= 2 2 2 department_combinations= 73360\n",
            "(marketing, finance, it)= 2 3 1 department_combinations= 85960\n",
            "(marketing, finance, it)= 3 1 2 department_combinations= 109480\n",
            "(marketing, finance, it)= 3 2 1 department_combinations= 129640\n",
            "(marketing, finance, it)= 4 1 1 department_combinations= 141400\n"
          ]
        }
      ]
    },
    {
      "cell_type": "markdown",
      "source": [
        "Step 6. Find the probability of selecting at least one employee from each department. You'll be using two variables that you've created in a simple arithmetic calculation."
      ],
      "metadata": {
        "id": "ytkfKI_6fkky"
      }
    },
    {
      "cell_type": "code",
      "source": [
        "probability = department_combinations / total_combinations\n",
        "print(\"Probability of selecting at least one employee from each department: %.5f\" %probability)"
      ],
      "metadata": {
        "id": "L6uJy8NxgBUI",
        "colab": {
          "base_uri": "https://localhost:8080/"
        },
        "outputId": "e3849d5d-9841-479d-edd4-448136ead374"
      },
      "execution_count": null,
      "outputs": [
        {
          "output_type": "stream",
          "name": "stdout",
          "text": [
            "Probability of selecting at least one employee from each department: 0.79842\n"
          ]
        }
      ]
    }
  ]
}
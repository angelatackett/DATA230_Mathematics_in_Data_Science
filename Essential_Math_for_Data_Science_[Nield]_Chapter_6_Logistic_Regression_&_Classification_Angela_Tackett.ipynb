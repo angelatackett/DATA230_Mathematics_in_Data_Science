{
  "nbformat": 4,
  "nbformat_minor": 0,
  "metadata": {
    "colab": {
      "provenance": [],
      "include_colab_link": true
    },
    "kernelspec": {
      "name": "python3",
      "display_name": "Python 3"
    },
    "language_info": {
      "name": "python"
    }
  },
  "cells": [
    {
      "cell_type": "markdown",
      "metadata": {
        "id": "view-in-github",
        "colab_type": "text"
      },
      "source": [
        "<a href=\"https://colab.research.google.com/github/angelatackett/Mathematics-for-Data-Science---DATA230/blob/main/Essential_Math_for_Data_Science_%5BNield%5D_Chapter_6_Logistic_Regression_%26_Classification_Angela_Tackett.ipynb\" target=\"_parent\"><img src=\"https://colab.research.google.com/assets/colab-badge.svg\" alt=\"Open In Colab\"/></a>"
      ]
    },
    {
      "cell_type": "markdown",
      "source": [
        "Welcome to your assignment about concepts covered in Chapter 6 of *Essential Math for Data Science* by Thomas Nield. You will be learning about the math in the algorithms of logistic regression and classification.\n",
        "\n",
        "Please read each question carefully and provide detailed explanations for your answers, including any relevant calculations or work. You are also required to provide Python solutions for the technical problems in each question."
      ],
      "metadata": {
        "id": "lgiYK3wfQXjr"
      }
    },
    {
      "cell_type": "markdown",
      "source": [
        "# Problem 1"
      ],
      "metadata": {
        "id": "1NPMNlgAQUoG"
      }
    },
    {
      "cell_type": "markdown",
      "source": [
        "Problem 1: Understanding Logistic Regression (One Independent Variable)\n",
        "\n",
        "You are given a dataset containing information about students' exam scores and whether they were admitted to a university or not (1,0).\n",
        "\n",
        "Exam Score: 80, 90, 75, 85, 95, 70, 60, 50, 65, 45\n",
        "\n",
        "Admitted: 1, 1, 1, 1, 1, 0, 0, 0, 0, 0\n",
        "\n",
        "\n",
        "You want to understand the concept of logistic regression and its application in classification tasks.\n",
        "\n",
        "In this solution, we use a logistic regression model to predict the admission status based on the exam scores. We interpret the coefficients and intercept of the logistic regression model to understand their influence on the log-odds. We calculate the predicted probabilities of admission for a few example cases and determine the class predictions. Finally, we evaluate the model's performance using accuracy, precision, recall, and F1-score to assess its effectiveness in classifying admission status."
      ],
      "metadata": {
        "id": "jcOJK71EQi_m"
      }
    },
    {
      "cell_type": "markdown",
      "source": [
        "Step 1. Import pandas as pd. Get the logisticregression function from sklearn.linear_model. You need to get train_test_split from sklearn.model_selection and accuracy_score, precision_score, recall_score, and f1_score from sklearn.metrics."
      ],
      "metadata": {
        "id": "4bpcUXTbTfqx"
      }
    },
    {
      "cell_type": "code",
      "source": [
        "import pandas as pd\n",
        "from sklearn.linear_model import LogisticRegression\n",
        "from sklearn.model_selection import train_test_split\n",
        "from sklearn.metrics import accuracy_score, precision_score, recall_score, f1_score"
      ],
      "metadata": {
        "id": "KhvlHg6bTgG1"
      },
      "execution_count": null,
      "outputs": []
    },
    {
      "cell_type": "markdown",
      "source": [
        "Step 2. Load the dataset into a pandas DataFrame. Enter the exam score and admitted status into the dataframe."
      ],
      "metadata": {
        "id": "LezY_fx9Tiio"
      }
    },
    {
      "cell_type": "code",
      "source": [
        "data = {\n",
        "    'ExamScore': [80, 90, 75, 85, 95, 70, 60, 50, 65, 45],\n",
        "    'Admission': [1, 1, 1, 1, 1, 0, 0, 0, 0, 0]\n",
        "}\n",
        "df = pd.DataFrame(data)\n",
        "print(df)"
      ],
      "metadata": {
        "id": "AjkCAMPDTgYn",
        "colab": {
          "base_uri": "https://localhost:8080/"
        },
        "outputId": "5f470637-7301-412b-dd21-a9c70e247db8"
      },
      "execution_count": null,
      "outputs": [
        {
          "output_type": "stream",
          "name": "stdout",
          "text": [
            "   ExamScore  Admission\n",
            "0         80          1\n",
            "1         90          1\n",
            "2         75          1\n",
            "3         85          1\n",
            "4         95          1\n",
            "5         70          0\n",
            "6         60          0\n",
            "7         50          0\n",
            "8         65          0\n",
            "9         45          0\n"
          ]
        }
      ]
    },
    {
      "cell_type": "markdown",
      "source": [
        "Step 3. Split the dataset into feature matrix X and target variable y. Which variable should be your X value (independent variable). Which variable should be your y value (dependent variable)? *For the X variable, you need to have double brackets to create a Pandas Data Frame versus a series (single brackets)."
      ],
      "metadata": {
        "id": "BncUDesbTg05"
      }
    },
    {
      "cell_type": "code",
      "source": [
        "X = df[['ExamScore']]\n",
        "y = df['Admission']"
      ],
      "metadata": {
        "id": "re9gD7o0Tg90"
      },
      "execution_count": null,
      "outputs": []
    },
    {
      "cell_type": "markdown",
      "source": [
        "Step 4. Create an instance of the LogisticRegression model and fit the model."
      ],
      "metadata": {
        "id": "4jiwu-xRThHi"
      }
    },
    {
      "cell_type": "code",
      "source": [
        "model = LogisticRegression()\n",
        "model.fit(X, y)"
      ],
      "metadata": {
        "colab": {
          "base_uri": "https://localhost:8080/",
          "height": 75
        },
        "id": "Y2ZeVkDKThRg",
        "outputId": "e293db7f-cb23-4bc6-eaac-fa1e98845471"
      },
      "execution_count": null,
      "outputs": [
        {
          "output_type": "execute_result",
          "data": {
            "text/plain": [
              "LogisticRegression()"
            ],
            "text/html": [
              "<style>#sk-container-id-1 {color: black;background-color: white;}#sk-container-id-1 pre{padding: 0;}#sk-container-id-1 div.sk-toggleable {background-color: white;}#sk-container-id-1 label.sk-toggleable__label {cursor: pointer;display: block;width: 100%;margin-bottom: 0;padding: 0.3em;box-sizing: border-box;text-align: center;}#sk-container-id-1 label.sk-toggleable__label-arrow:before {content: \"▸\";float: left;margin-right: 0.25em;color: #696969;}#sk-container-id-1 label.sk-toggleable__label-arrow:hover:before {color: black;}#sk-container-id-1 div.sk-estimator:hover label.sk-toggleable__label-arrow:before {color: black;}#sk-container-id-1 div.sk-toggleable__content {max-height: 0;max-width: 0;overflow: hidden;text-align: left;background-color: #f0f8ff;}#sk-container-id-1 div.sk-toggleable__content pre {margin: 0.2em;color: black;border-radius: 0.25em;background-color: #f0f8ff;}#sk-container-id-1 input.sk-toggleable__control:checked~div.sk-toggleable__content {max-height: 200px;max-width: 100%;overflow: auto;}#sk-container-id-1 input.sk-toggleable__control:checked~label.sk-toggleable__label-arrow:before {content: \"▾\";}#sk-container-id-1 div.sk-estimator input.sk-toggleable__control:checked~label.sk-toggleable__label {background-color: #d4ebff;}#sk-container-id-1 div.sk-label input.sk-toggleable__control:checked~label.sk-toggleable__label {background-color: #d4ebff;}#sk-container-id-1 input.sk-hidden--visually {border: 0;clip: rect(1px 1px 1px 1px);clip: rect(1px, 1px, 1px, 1px);height: 1px;margin: -1px;overflow: hidden;padding: 0;position: absolute;width: 1px;}#sk-container-id-1 div.sk-estimator {font-family: monospace;background-color: #f0f8ff;border: 1px dotted black;border-radius: 0.25em;box-sizing: border-box;margin-bottom: 0.5em;}#sk-container-id-1 div.sk-estimator:hover {background-color: #d4ebff;}#sk-container-id-1 div.sk-parallel-item::after {content: \"\";width: 100%;border-bottom: 1px solid gray;flex-grow: 1;}#sk-container-id-1 div.sk-label:hover label.sk-toggleable__label {background-color: #d4ebff;}#sk-container-id-1 div.sk-serial::before {content: \"\";position: absolute;border-left: 1px solid gray;box-sizing: border-box;top: 0;bottom: 0;left: 50%;z-index: 0;}#sk-container-id-1 div.sk-serial {display: flex;flex-direction: column;align-items: center;background-color: white;padding-right: 0.2em;padding-left: 0.2em;position: relative;}#sk-container-id-1 div.sk-item {position: relative;z-index: 1;}#sk-container-id-1 div.sk-parallel {display: flex;align-items: stretch;justify-content: center;background-color: white;position: relative;}#sk-container-id-1 div.sk-item::before, #sk-container-id-1 div.sk-parallel-item::before {content: \"\";position: absolute;border-left: 1px solid gray;box-sizing: border-box;top: 0;bottom: 0;left: 50%;z-index: -1;}#sk-container-id-1 div.sk-parallel-item {display: flex;flex-direction: column;z-index: 1;position: relative;background-color: white;}#sk-container-id-1 div.sk-parallel-item:first-child::after {align-self: flex-end;width: 50%;}#sk-container-id-1 div.sk-parallel-item:last-child::after {align-self: flex-start;width: 50%;}#sk-container-id-1 div.sk-parallel-item:only-child::after {width: 0;}#sk-container-id-1 div.sk-dashed-wrapped {border: 1px dashed gray;margin: 0 0.4em 0.5em 0.4em;box-sizing: border-box;padding-bottom: 0.4em;background-color: white;}#sk-container-id-1 div.sk-label label {font-family: monospace;font-weight: bold;display: inline-block;line-height: 1.2em;}#sk-container-id-1 div.sk-label-container {text-align: center;}#sk-container-id-1 div.sk-container {/* jupyter's `normalize.less` sets `[hidden] { display: none; }` but bootstrap.min.css set `[hidden] { display: none !important; }` so we also need the `!important` here to be able to override the default hidden behavior on the sphinx rendered scikit-learn.org. See: https://github.com/scikit-learn/scikit-learn/issues/21755 */display: inline-block !important;position: relative;}#sk-container-id-1 div.sk-text-repr-fallback {display: none;}</style><div id=\"sk-container-id-1\" class=\"sk-top-container\"><div class=\"sk-text-repr-fallback\"><pre>LogisticRegression()</pre><b>In a Jupyter environment, please rerun this cell to show the HTML representation or trust the notebook. <br />On GitHub, the HTML representation is unable to render, please try loading this page with nbviewer.org.</b></div><div class=\"sk-container\" hidden><div class=\"sk-item\"><div class=\"sk-estimator sk-toggleable\"><input class=\"sk-toggleable__control sk-hidden--visually\" id=\"sk-estimator-id-1\" type=\"checkbox\" checked><label for=\"sk-estimator-id-1\" class=\"sk-toggleable__label sk-toggleable__label-arrow\">LogisticRegression</label><div class=\"sk-toggleable__content\"><pre>LogisticRegression()</pre></div></div></div></div></div>"
            ]
          },
          "metadata": {},
          "execution_count": 5
        }
      ]
    },
    {
      "cell_type": "markdown",
      "source": [
        "Step 5. Interpret the coefficients of the logistic regression model."
      ],
      "metadata": {
        "id": "xvbHNQOCThah"
      }
    },
    {
      "cell_type": "code",
      "source": [
        "coef = model.coef_[0]\n",
        "intercept = model.intercept_"
      ],
      "metadata": {
        "id": "jzLkVqoUThkW"
      },
      "execution_count": null,
      "outputs": []
    },
    {
      "cell_type": "markdown",
      "source": [
        "Step 6. Calculate the predicted probabilities of admission for example cases.\n",
        " Enter the exams scores of 70, 85, and 95 (replace the ?) to see what the probability of admission is."
      ],
      "metadata": {
        "id": "b2H-Z3VbThtF"
      }
    },
    {
      "cell_type": "code",
      "source": [
        "example_cases = [[70], [85], [95]]\n",
        "predicted_probabilities = model.predict_proba(example_cases)\n",
        "\n",
        "for i, case in enumerate(example_cases):\n",
        "    print(f\"Example case {i+1}: Exam Score = {case[0]}, Admission Probability = {predicted_probabilities[i][1]: .3f}\")"
      ],
      "metadata": {
        "id": "Hwg8P9r-Th1J",
        "colab": {
          "base_uri": "https://localhost:8080/"
        },
        "outputId": "f7146264-0173-4b57-8718-6bd8a10b1d26"
      },
      "execution_count": null,
      "outputs": [
        {
          "output_type": "stream",
          "name": "stdout",
          "text": [
            "Example case 1: Exam Score = 70, Admission Probability =  0.136\n",
            "Example case 2: Exam Score = 85, Admission Probability =  1.000\n",
            "Example case 3: Exam Score = 95, Admission Probability =  1.000\n"
          ]
        },
        {
          "output_type": "stream",
          "name": "stderr",
          "text": [
            "/usr/local/lib/python3.10/dist-packages/sklearn/base.py:439: UserWarning: X does not have valid feature names, but LogisticRegression was fitted with feature names\n",
            "  warnings.warn(\n"
          ]
        }
      ]
    },
    {
      "cell_type": "markdown",
      "source": [
        "\n",
        "Step 7. Determine the class predictions based on the predicted probabilities.\n"
      ],
      "metadata": {
        "id": "M7F1in-bUMWL"
      }
    },
    {
      "cell_type": "code",
      "source": [
        "predicted_classes = model.predict(X)"
      ],
      "metadata": {
        "id": "Qqvis-8wUMgQ"
      },
      "execution_count": null,
      "outputs": []
    },
    {
      "cell_type": "code",
      "source": [],
      "metadata": {
        "id": "IlEBX7VZ4tIL"
      },
      "execution_count": null,
      "outputs": []
    },
    {
      "cell_type": "code",
      "source": [],
      "metadata": {
        "id": "oLu8AEaQ4r5h"
      },
      "execution_count": null,
      "outputs": []
    },
    {
      "cell_type": "markdown",
      "source": [
        "Step 8. Evaluate the model's performance."
      ],
      "metadata": {
        "id": "YjprEQnPUMqw"
      }
    },
    {
      "cell_type": "code",
      "source": [
        "accuracy = accuracy_score(y, predicted_classes)\n",
        "precision = precision_score(y, predicted_classes)\n",
        "recall = recall_score(y, predicted_classes)\n",
        "f1 = f1_score(y, predicted_classes)\n",
        "\n",
        "print(f\"Accuracy: {accuracy}\")\n",
        "print(f\"Precision: {precision}\")\n",
        "print(f\"Recall: {recall}\")\n",
        "print(f\"F1-Score: {f1}\")"
      ],
      "metadata": {
        "id": "Jf0K4o8IUM2A",
        "colab": {
          "base_uri": "https://localhost:8080/"
        },
        "outputId": "8bfbd226-62a8-4d75-ba6f-3ee26bfa5228"
      },
      "execution_count": null,
      "outputs": [
        {
          "output_type": "stream",
          "name": "stdout",
          "text": [
            "Accuracy: 1.0\n",
            "Precision: 1.0\n",
            "Recall: 1.0\n",
            "F1-Score: 1.0\n"
          ]
        }
      ]
    },
    {
      "cell_type": "markdown",
      "source": [
        "What is the accuracy, precision, recall, and F1-Score of the model? Enter your answer below."
      ],
      "metadata": {
        "id": "XiO99F547R8_"
      }
    },
    {
      "cell_type": "markdown",
      "source": [
        "Your response:   \n",
        "Accuracy: 1.0   \n",
        "Precision: 1.0   \n",
        "Recall: 1.0   \n",
        "F1-Score: 1.0"
      ],
      "metadata": {
        "id": "aFNxZpYW7Xbl"
      }
    },
    {
      "cell_type": "markdown",
      "source": [
        "# Problem 2"
      ],
      "metadata": {
        "id": "xWSyysYyQVPd"
      }
    },
    {
      "cell_type": "markdown",
      "source": [
        "Problem 2: Performing a Logistic Regression (Two Independent Variables)\n",
        "\n",
        "You have a dataset containing information about employees in a company, including their age, years of experience, and whether they have left the company or not (1,0).\n",
        "\n",
        "Age: 35, 42, 28, 48, 52, 30, 45, 36, 40, 55\n",
        "\n",
        "Experience: 10, 15, 5, 20, 25, 6, 18, 12, 8, 30\n",
        "\n",
        "Left: 0, 1, 1, 1, 1, 0, 1, 0, 0, 1\n",
        "\n",
        "You want to perform a logistic regression to predict the probability of an employee leaving based on their age and years of experience.\n",
        "\n",
        "In this solution, we perform a logistic regression on the employee dataset to predict the probability of an employee leaving based on their age and years of experience. We split the dataset into training and testing sets using the train_test_split function. Then, we create an instance of the LogisticRegression model and fit it using the training data. Next, we calculate the predicted probabilities of an employee leaving for a few example cases. Finally, we determine the class predictions based on the predicted probabilities and evaluate the model's performance using accuracy, precision, recall, and F1-score."
      ],
      "metadata": {
        "id": "yYy8Gm-SSG34"
      }
    },
    {
      "cell_type": "markdown",
      "source": [
        "Step 1. Import pandas as pd. Get the logisticregression function from sklearn.linear_model. You need to get train_test_split from sklearn.model_selection and accuracy_score, precision_score, recall_score, and f1_score from sklearn.metrics."
      ],
      "metadata": {
        "id": "uUM5P-w1XuMQ"
      }
    },
    {
      "cell_type": "code",
      "source": [
        "import pandas as pd\n",
        "from sklearn.linear_model import LogisticRegression\n",
        "from sklearn.model_selection import train_test_split\n",
        "from sklearn.metrics import accuracy_score, precision_score, recall_score, f1_score\n"
      ],
      "metadata": {
        "id": "YCmo0ivEXuT9"
      },
      "execution_count": null,
      "outputs": []
    },
    {
      "cell_type": "markdown",
      "source": [
        "Step 2. Load the dataset into a pandas DataFrame. Enter the employee's age, years of experience, and whether they left the compnay or not."
      ],
      "metadata": {
        "id": "wkhkCDq0Xue7"
      }
    },
    {
      "cell_type": "code",
      "source": [
        "data = {\n",
        "    'Age': [35, 42, 28, 48, 52, 30, 45, 36, 40, 55],\n",
        "    'Experience': [10, 15, 5, 20, 25, 6, 18, 12, 8, 30],\n",
        "    'Left': [0, 1, 1, 1, 1, 0, 1, 0, 0, 1]\n",
        "}\n",
        "df = pd.DataFrame(data)"
      ],
      "metadata": {
        "id": "pK3alakPXuog"
      },
      "execution_count": null,
      "outputs": []
    },
    {
      "cell_type": "markdown",
      "source": [
        "Step 3. Split the dataset into feature matrix X and target variable y. Which variables should be your X value (independent variables). Which variable should be your y value (dependent variable)? *For the X variables, you need to have double brackets to create a Pandas Data Frame versus a series (single brackets)."
      ],
      "metadata": {
        "id": "uVchn4KHXuzw"
      }
    },
    {
      "cell_type": "code",
      "source": [
        "X = df[['Age', 'Experience']]\n",
        "y = df['Left']"
      ],
      "metadata": {
        "id": "UReod3gxXu9g"
      },
      "execution_count": null,
      "outputs": []
    },
    {
      "cell_type": "markdown",
      "source": [
        "Step 4.  Perform train/test split. Use a test size of 20% (0.2)."
      ],
      "metadata": {
        "id": "W6TUMlRuXvKQ"
      }
    },
    {
      "cell_type": "code",
      "source": [
        "X_train, X_test, y_train, y_test = train_test_split(X, y, test_size=.2, random_state=42)"
      ],
      "metadata": {
        "id": "EN-CjiD9XvUk"
      },
      "execution_count": null,
      "outputs": []
    },
    {
      "cell_type": "markdown",
      "source": [
        "Step 5. Create an instance of the LogisticRegression model and fit the model."
      ],
      "metadata": {
        "id": "BiOJtFCoXvdf"
      }
    },
    {
      "cell_type": "code",
      "source": [
        "model = LogisticRegression()\n",
        "model.fit(X_train, y_train)"
      ],
      "metadata": {
        "id": "3AuMCD0HXvmD",
        "colab": {
          "base_uri": "https://localhost:8080/",
          "height": 75
        },
        "outputId": "3982c8b2-8b2f-43f8-e6d8-2cd55762f294"
      },
      "execution_count": null,
      "outputs": [
        {
          "output_type": "execute_result",
          "data": {
            "text/plain": [
              "LogisticRegression()"
            ],
            "text/html": [
              "<style>#sk-container-id-2 {color: black;background-color: white;}#sk-container-id-2 pre{padding: 0;}#sk-container-id-2 div.sk-toggleable {background-color: white;}#sk-container-id-2 label.sk-toggleable__label {cursor: pointer;display: block;width: 100%;margin-bottom: 0;padding: 0.3em;box-sizing: border-box;text-align: center;}#sk-container-id-2 label.sk-toggleable__label-arrow:before {content: \"▸\";float: left;margin-right: 0.25em;color: #696969;}#sk-container-id-2 label.sk-toggleable__label-arrow:hover:before {color: black;}#sk-container-id-2 div.sk-estimator:hover label.sk-toggleable__label-arrow:before {color: black;}#sk-container-id-2 div.sk-toggleable__content {max-height: 0;max-width: 0;overflow: hidden;text-align: left;background-color: #f0f8ff;}#sk-container-id-2 div.sk-toggleable__content pre {margin: 0.2em;color: black;border-radius: 0.25em;background-color: #f0f8ff;}#sk-container-id-2 input.sk-toggleable__control:checked~div.sk-toggleable__content {max-height: 200px;max-width: 100%;overflow: auto;}#sk-container-id-2 input.sk-toggleable__control:checked~label.sk-toggleable__label-arrow:before {content: \"▾\";}#sk-container-id-2 div.sk-estimator input.sk-toggleable__control:checked~label.sk-toggleable__label {background-color: #d4ebff;}#sk-container-id-2 div.sk-label input.sk-toggleable__control:checked~label.sk-toggleable__label {background-color: #d4ebff;}#sk-container-id-2 input.sk-hidden--visually {border: 0;clip: rect(1px 1px 1px 1px);clip: rect(1px, 1px, 1px, 1px);height: 1px;margin: -1px;overflow: hidden;padding: 0;position: absolute;width: 1px;}#sk-container-id-2 div.sk-estimator {font-family: monospace;background-color: #f0f8ff;border: 1px dotted black;border-radius: 0.25em;box-sizing: border-box;margin-bottom: 0.5em;}#sk-container-id-2 div.sk-estimator:hover {background-color: #d4ebff;}#sk-container-id-2 div.sk-parallel-item::after {content: \"\";width: 100%;border-bottom: 1px solid gray;flex-grow: 1;}#sk-container-id-2 div.sk-label:hover label.sk-toggleable__label {background-color: #d4ebff;}#sk-container-id-2 div.sk-serial::before {content: \"\";position: absolute;border-left: 1px solid gray;box-sizing: border-box;top: 0;bottom: 0;left: 50%;z-index: 0;}#sk-container-id-2 div.sk-serial {display: flex;flex-direction: column;align-items: center;background-color: white;padding-right: 0.2em;padding-left: 0.2em;position: relative;}#sk-container-id-2 div.sk-item {position: relative;z-index: 1;}#sk-container-id-2 div.sk-parallel {display: flex;align-items: stretch;justify-content: center;background-color: white;position: relative;}#sk-container-id-2 div.sk-item::before, #sk-container-id-2 div.sk-parallel-item::before {content: \"\";position: absolute;border-left: 1px solid gray;box-sizing: border-box;top: 0;bottom: 0;left: 50%;z-index: -1;}#sk-container-id-2 div.sk-parallel-item {display: flex;flex-direction: column;z-index: 1;position: relative;background-color: white;}#sk-container-id-2 div.sk-parallel-item:first-child::after {align-self: flex-end;width: 50%;}#sk-container-id-2 div.sk-parallel-item:last-child::after {align-self: flex-start;width: 50%;}#sk-container-id-2 div.sk-parallel-item:only-child::after {width: 0;}#sk-container-id-2 div.sk-dashed-wrapped {border: 1px dashed gray;margin: 0 0.4em 0.5em 0.4em;box-sizing: border-box;padding-bottom: 0.4em;background-color: white;}#sk-container-id-2 div.sk-label label {font-family: monospace;font-weight: bold;display: inline-block;line-height: 1.2em;}#sk-container-id-2 div.sk-label-container {text-align: center;}#sk-container-id-2 div.sk-container {/* jupyter's `normalize.less` sets `[hidden] { display: none; }` but bootstrap.min.css set `[hidden] { display: none !important; }` so we also need the `!important` here to be able to override the default hidden behavior on the sphinx rendered scikit-learn.org. See: https://github.com/scikit-learn/scikit-learn/issues/21755 */display: inline-block !important;position: relative;}#sk-container-id-2 div.sk-text-repr-fallback {display: none;}</style><div id=\"sk-container-id-2\" class=\"sk-top-container\"><div class=\"sk-text-repr-fallback\"><pre>LogisticRegression()</pre><b>In a Jupyter environment, please rerun this cell to show the HTML representation or trust the notebook. <br />On GitHub, the HTML representation is unable to render, please try loading this page with nbviewer.org.</b></div><div class=\"sk-container\" hidden><div class=\"sk-item\"><div class=\"sk-estimator sk-toggleable\"><input class=\"sk-toggleable__control sk-hidden--visually\" id=\"sk-estimator-id-2\" type=\"checkbox\" checked><label for=\"sk-estimator-id-2\" class=\"sk-toggleable__label sk-toggleable__label-arrow\">LogisticRegression</label><div class=\"sk-toggleable__content\"><pre>LogisticRegression()</pre></div></div></div></div></div>"
            ]
          },
          "metadata": {},
          "execution_count": 14
        }
      ]
    },
    {
      "cell_type": "markdown",
      "source": [
        "Step 6. Calculate the predicted probabilities of an employee leaving for example cases. Enter three case- age 30 with 6 years experience, age 45 with 18 years of experience, and 55 with 30 years of experience."
      ],
      "metadata": {
        "id": "SggtPoV_XvxD"
      }
    },
    {
      "cell_type": "code",
      "source": [
        "example_cases = [[30, 6], [45, 18], [55, 30]]\n",
        "predicted_probabilities = model.predict_proba(example_cases)\n",
        "for i, case in enumerate(example_cases):\n",
        "    print(f\"Example case {i+1}: Age = {case[0]}, Experience = {case[1]}, Probability of Leaving = {predicted_probabilities[i][1]: .3f}\")"
      ],
      "metadata": {
        "id": "wVC2xi_oXv5m",
        "colab": {
          "base_uri": "https://localhost:8080/"
        },
        "outputId": "f27a2f58-2c44-4fed-bda2-2cbae2a201aa"
      },
      "execution_count": null,
      "outputs": [
        {
          "output_type": "stream",
          "name": "stdout",
          "text": [
            "Example case 1: Age = 30, Experience = 6, Probability of Leaving =  0.248\n",
            "Example case 2: Age = 45, Experience = 18, Probability of Leaving =  0.814\n",
            "Example case 3: Age = 55, Experience = 30, Probability of Leaving =  0.972\n"
          ]
        },
        {
          "output_type": "stream",
          "name": "stderr",
          "text": [
            "/usr/local/lib/python3.10/dist-packages/sklearn/base.py:439: UserWarning: X does not have valid feature names, but LogisticRegression was fitted with feature names\n",
            "  warnings.warn(\n"
          ]
        }
      ]
    },
    {
      "cell_type": "markdown",
      "source": [
        "Step 7. Determine the class predictions based on the predicted probabilities."
      ],
      "metadata": {
        "id": "2ayJjoBPX8zQ"
      }
    },
    {
      "cell_type": "code",
      "source": [
        "predicted_classes = model.predict(X_test)"
      ],
      "metadata": {
        "id": "i0B46SZmXwMU"
      },
      "execution_count": null,
      "outputs": []
    },
    {
      "cell_type": "markdown",
      "source": [
        "Step 8: Evaluate the model's performance."
      ],
      "metadata": {
        "id": "z9_cSdEUXwYo"
      }
    },
    {
      "cell_type": "code",
      "source": [
        "accuracy = accuracy_score(y_test, predicted_classes)\n",
        "precision = precision_score(y_test, predicted_classes)\n",
        "recall = recall_score(y_test, predicted_classes)\n",
        "f1 = f1_score(y_test, predicted_classes)\n",
        "\n",
        "print(f\"Accuracy: {accuracy}\")\n",
        "print(f\"Precision: {precision}\")\n",
        "print(f\"Recall: {recall}\")\n",
        "print(f\"F1-Score: {f1: .3f}\")"
      ],
      "metadata": {
        "id": "33BDGRumXwg5",
        "colab": {
          "base_uri": "https://localhost:8080/"
        },
        "outputId": "2b028607-1f9c-42d8-83af-9d99db2d7617"
      },
      "execution_count": null,
      "outputs": [
        {
          "output_type": "stream",
          "name": "stdout",
          "text": [
            "Accuracy: 0.5\n",
            "Precision: 0.5\n",
            "Recall: 1.0\n",
            "F1-Score:  0.667\n"
          ]
        }
      ]
    },
    {
      "cell_type": "markdown",
      "source": [
        "What is the accuracy, precision, recall, and F1-Score of the model? Enter your answer below."
      ],
      "metadata": {
        "id": "xNFmFEy-8ApQ"
      }
    },
    {
      "cell_type": "markdown",
      "source": [
        "Your response:  \n",
        "Accuracy: 0.5   \n",
        "Precision: 0.5   \n",
        "Recall: 1.0  \n",
        "F1-Score:  0.667"
      ],
      "metadata": {
        "id": "Qrw8YjP68CcU"
      }
    },
    {
      "cell_type": "markdown",
      "source": [
        "# Problem 3"
      ],
      "metadata": {
        "id": "zgMCg67ASQfH"
      }
    },
    {
      "cell_type": "markdown",
      "source": [
        "Problem 3: Multiple Logistic Regression\n",
        "\n",
        "You have a dataset containing information about students, including their exam scores, hours studied, and whether they passed the exam or not.\n",
        "\n",
        "Exam Score: 80, 90, 75, 85, 95, 70, 60, 50, 65, 45\n",
        "\n",
        "Hours Studied: 5, 6, 7, 6, 7, 8, 7, 9, 4, 6\n",
        "\n",
        "Passed exam: 1, 1, 1, 1, 1, 0, 0, 0, 0, 0\n",
        "\n",
        "You want to perform a multivariable logistic regression to predict the probability of a student passing the exam based on their exam scores and hours studied.\n",
        "\n",
        "In this solution, we perform a multivariable logistic regression on the student dataset to predict the probability of a student passing the exam based on their exam scores and hours studied. We create an instance of the LogisticRegression model and fit it using the feature matrix X and the target variable y. Then, we calculate the predicted probabilities of passing the exam for a few example cases. Next, we determine the class predictions based on the predicted probabilities. Finally, we evaluate the model's performance using accuracy, precision, recall, and F1-score to assess its effectiveness in predicting the exam pass status based on exam scores and hours studied."
      ],
      "metadata": {
        "id": "UROXwgklSTzR"
      }
    },
    {
      "cell_type": "markdown",
      "source": [
        "Step 1. Import pandas as pd. Get the logisticregression function from sklearn.linear_model. You need to get accuracy_score, precision_score, recall_score, and f1_score from sklearn.metrics."
      ],
      "metadata": {
        "id": "XAvcTMnnDiAE"
      }
    },
    {
      "cell_type": "code",
      "source": [
        "import pandas as pd\n",
        "from sklearn.linear_model import LogisticRegression\n",
        "from sklearn.metrics import accuracy_score, precision_score, recall_score, f1_score"
      ],
      "metadata": {
        "id": "JzTmU6hFDiLS"
      },
      "execution_count": null,
      "outputs": []
    },
    {
      "cell_type": "markdown",
      "source": [
        "Step 2. Load the dataset into a pandas DataFrame"
      ],
      "metadata": {
        "id": "fs6PZCVHDiWf"
      }
    },
    {
      "cell_type": "code",
      "source": [
        "data = {\n",
        "    'ExamScores': [80, 90, 75, 85, 95, 70, 60, 50, 65, 45],\n",
        "    'HoursStudied': [5, 6, 7, 6, 7, 8, 7, 9, 4, 6],\n",
        "    'Pass': [1, 1, 1, 1, 1, 0, 0, 0, 0, 0]\n",
        "}\n",
        "df = pd.DataFrame(data)"
      ],
      "metadata": {
        "id": "ihsjPJd5DihO"
      },
      "execution_count": null,
      "outputs": []
    },
    {
      "cell_type": "markdown",
      "source": [
        "Step 3. Split the dataset into feature matrix X and target variable y. Which variables should be your X value (independent variables). Which variable should be your y value (dependent variable)? *For the X variables, you need to have double brackets to create a Pandas Data Frame versus a series (single brackets)."
      ],
      "metadata": {
        "id": "iDDSzN8DDiq_"
      }
    },
    {
      "cell_type": "code",
      "source": [
        "X = df[['ExamScores','HoursStudied']]\n",
        "y = df['Pass']\n",
        "print(df)"
      ],
      "metadata": {
        "id": "kwH_1vI3Di3a",
        "colab": {
          "base_uri": "https://localhost:8080/"
        },
        "outputId": "a36de583-ca04-455f-e573-358a059b4cc3"
      },
      "execution_count": null,
      "outputs": [
        {
          "output_type": "stream",
          "name": "stdout",
          "text": [
            "   ExamScores  HoursStudied  Pass\n",
            "0          80             5     1\n",
            "1          90             6     1\n",
            "2          75             7     1\n",
            "3          85             6     1\n",
            "4          95             7     1\n",
            "5          70             8     0\n",
            "6          60             7     0\n",
            "7          50             9     0\n",
            "8          65             4     0\n",
            "9          45             6     0\n"
          ]
        }
      ]
    },
    {
      "cell_type": "markdown",
      "source": [
        "Step 4. Create an instance of the LogisticRegression model and fit the model using x and y."
      ],
      "metadata": {
        "id": "-4-L71rADjDT"
      }
    },
    {
      "cell_type": "code",
      "source": [
        "model = LogisticRegression()\n",
        "model.fit(X, y)"
      ],
      "metadata": {
        "id": "ucpcZcmzDjOD",
        "colab": {
          "base_uri": "https://localhost:8080/",
          "height": 75
        },
        "outputId": "f4a467fe-c247-42f7-b043-d33419fa8005"
      },
      "execution_count": null,
      "outputs": [
        {
          "output_type": "execute_result",
          "data": {
            "text/plain": [
              "LogisticRegression()"
            ],
            "text/html": [
              "<style>#sk-container-id-4 {color: black;background-color: white;}#sk-container-id-4 pre{padding: 0;}#sk-container-id-4 div.sk-toggleable {background-color: white;}#sk-container-id-4 label.sk-toggleable__label {cursor: pointer;display: block;width: 100%;margin-bottom: 0;padding: 0.3em;box-sizing: border-box;text-align: center;}#sk-container-id-4 label.sk-toggleable__label-arrow:before {content: \"▸\";float: left;margin-right: 0.25em;color: #696969;}#sk-container-id-4 label.sk-toggleable__label-arrow:hover:before {color: black;}#sk-container-id-4 div.sk-estimator:hover label.sk-toggleable__label-arrow:before {color: black;}#sk-container-id-4 div.sk-toggleable__content {max-height: 0;max-width: 0;overflow: hidden;text-align: left;background-color: #f0f8ff;}#sk-container-id-4 div.sk-toggleable__content pre {margin: 0.2em;color: black;border-radius: 0.25em;background-color: #f0f8ff;}#sk-container-id-4 input.sk-toggleable__control:checked~div.sk-toggleable__content {max-height: 200px;max-width: 100%;overflow: auto;}#sk-container-id-4 input.sk-toggleable__control:checked~label.sk-toggleable__label-arrow:before {content: \"▾\";}#sk-container-id-4 div.sk-estimator input.sk-toggleable__control:checked~label.sk-toggleable__label {background-color: #d4ebff;}#sk-container-id-4 div.sk-label input.sk-toggleable__control:checked~label.sk-toggleable__label {background-color: #d4ebff;}#sk-container-id-4 input.sk-hidden--visually {border: 0;clip: rect(1px 1px 1px 1px);clip: rect(1px, 1px, 1px, 1px);height: 1px;margin: -1px;overflow: hidden;padding: 0;position: absolute;width: 1px;}#sk-container-id-4 div.sk-estimator {font-family: monospace;background-color: #f0f8ff;border: 1px dotted black;border-radius: 0.25em;box-sizing: border-box;margin-bottom: 0.5em;}#sk-container-id-4 div.sk-estimator:hover {background-color: #d4ebff;}#sk-container-id-4 div.sk-parallel-item::after {content: \"\";width: 100%;border-bottom: 1px solid gray;flex-grow: 1;}#sk-container-id-4 div.sk-label:hover label.sk-toggleable__label {background-color: #d4ebff;}#sk-container-id-4 div.sk-serial::before {content: \"\";position: absolute;border-left: 1px solid gray;box-sizing: border-box;top: 0;bottom: 0;left: 50%;z-index: 0;}#sk-container-id-4 div.sk-serial {display: flex;flex-direction: column;align-items: center;background-color: white;padding-right: 0.2em;padding-left: 0.2em;position: relative;}#sk-container-id-4 div.sk-item {position: relative;z-index: 1;}#sk-container-id-4 div.sk-parallel {display: flex;align-items: stretch;justify-content: center;background-color: white;position: relative;}#sk-container-id-4 div.sk-item::before, #sk-container-id-4 div.sk-parallel-item::before {content: \"\";position: absolute;border-left: 1px solid gray;box-sizing: border-box;top: 0;bottom: 0;left: 50%;z-index: -1;}#sk-container-id-4 div.sk-parallel-item {display: flex;flex-direction: column;z-index: 1;position: relative;background-color: white;}#sk-container-id-4 div.sk-parallel-item:first-child::after {align-self: flex-end;width: 50%;}#sk-container-id-4 div.sk-parallel-item:last-child::after {align-self: flex-start;width: 50%;}#sk-container-id-4 div.sk-parallel-item:only-child::after {width: 0;}#sk-container-id-4 div.sk-dashed-wrapped {border: 1px dashed gray;margin: 0 0.4em 0.5em 0.4em;box-sizing: border-box;padding-bottom: 0.4em;background-color: white;}#sk-container-id-4 div.sk-label label {font-family: monospace;font-weight: bold;display: inline-block;line-height: 1.2em;}#sk-container-id-4 div.sk-label-container {text-align: center;}#sk-container-id-4 div.sk-container {/* jupyter's `normalize.less` sets `[hidden] { display: none; }` but bootstrap.min.css set `[hidden] { display: none !important; }` so we also need the `!important` here to be able to override the default hidden behavior on the sphinx rendered scikit-learn.org. See: https://github.com/scikit-learn/scikit-learn/issues/21755 */display: inline-block !important;position: relative;}#sk-container-id-4 div.sk-text-repr-fallback {display: none;}</style><div id=\"sk-container-id-4\" class=\"sk-top-container\"><div class=\"sk-text-repr-fallback\"><pre>LogisticRegression()</pre><b>In a Jupyter environment, please rerun this cell to show the HTML representation or trust the notebook. <br />On GitHub, the HTML representation is unable to render, please try loading this page with nbviewer.org.</b></div><div class=\"sk-container\" hidden><div class=\"sk-item\"><div class=\"sk-estimator sk-toggleable\"><input class=\"sk-toggleable__control sk-hidden--visually\" id=\"sk-estimator-id-4\" type=\"checkbox\" checked><label for=\"sk-estimator-id-4\" class=\"sk-toggleable__label sk-toggleable__label-arrow\">LogisticRegression</label><div class=\"sk-toggleable__content\"><pre>LogisticRegression()</pre></div></div></div></div></div>"
            ]
          },
          "metadata": {},
          "execution_count": 24
        }
      ]
    },
    {
      "cell_type": "markdown",
      "source": [
        "Step 5. Calculate the predicted probabilities of passing the exam for example cases. The example cases are a student with a score of 70, studied 8 hours; a student with a score of 85, studied 6 hours; and a student with a score of 90, studied 7 hours."
      ],
      "metadata": {
        "id": "hRkInLWNDjYG"
      }
    },
    {
      "cell_type": "code",
      "source": [
        "example_cases = [[70, 8], [85, 6], [90, 7]]\n",
        "predicted_probabilities = model.predict_proba(example_cases)\n",
        "\n",
        "for i, case in enumerate(example_cases):\n",
        "    print(f\"Example case {i+1}: Exam Scores = {case[0]}, Hours Studied = {case[1]}, Probability of Passing = {predicted_probabilities[i][1]: .3f}\")"
      ],
      "metadata": {
        "id": "Visxz9njDjlv",
        "colab": {
          "base_uri": "https://localhost:8080/"
        },
        "outputId": "151590b5-85ec-4b15-bbab-61df7f2bb505"
      },
      "execution_count": null,
      "outputs": [
        {
          "output_type": "stream",
          "name": "stdout",
          "text": [
            "Example case 1: Exam Scores = 70, Hours Studied = 8, Probability of Passing =  0.130\n",
            "Example case 2: Exam Scores = 85, Hours Studied = 6, Probability of Passing =  1.000\n",
            "Example case 3: Exam Scores = 90, Hours Studied = 7, Probability of Passing =  1.000\n"
          ]
        },
        {
          "output_type": "stream",
          "name": "stderr",
          "text": [
            "/usr/local/lib/python3.10/dist-packages/sklearn/base.py:439: UserWarning: X does not have valid feature names, but LogisticRegression was fitted with feature names\n",
            "  warnings.warn(\n"
          ]
        }
      ]
    },
    {
      "cell_type": "markdown",
      "source": [
        "Step 6. Determine the class predictions based on the predicted probabilities."
      ],
      "metadata": {
        "id": "Te8sh30IDjwz"
      }
    },
    {
      "cell_type": "code",
      "source": [
        "predicted_classes = model.predict(X)"
      ],
      "metadata": {
        "id": "nQwENMYyFnLO"
      },
      "execution_count": null,
      "outputs": []
    },
    {
      "cell_type": "markdown",
      "source": [
        "Step 7. Evaluate the model's performance"
      ],
      "metadata": {
        "id": "PjDJQxv2FmtK"
      }
    },
    {
      "cell_type": "code",
      "source": [
        "accuracy = accuracy_score(y, predicted_classes)\n",
        "precision = precision_score(y, predicted_classes)\n",
        "recall = recall_score(y, predicted_classes)\n",
        "f1 = f1_score(y, predicted_classes)\n",
        "\n",
        "print(f\"Accuracy: {accuracy}\")\n",
        "print(f\"Precision: {precision}\")\n",
        "print(f\"Recall: {recall}\")\n",
        "print(f\"F1-Score: {f1: .3f}\")"
      ],
      "metadata": {
        "id": "Kqd7wHGJDj3z",
        "colab": {
          "base_uri": "https://localhost:8080/"
        },
        "outputId": "a3394192-f550-47a1-c81b-ebc96dadd5c8"
      },
      "execution_count": null,
      "outputs": [
        {
          "output_type": "stream",
          "name": "stdout",
          "text": [
            "Accuracy: 1.0\n",
            "Precision: 1.0\n",
            "Recall: 1.0\n",
            "F1-Score:  1.000\n"
          ]
        }
      ]
    },
    {
      "cell_type": "markdown",
      "source": [
        "What is the accuracy, precision, recall, and F1-Score of the model? Enter your answer below."
      ],
      "metadata": {
        "id": "T143P5h_8vwr"
      }
    },
    {
      "cell_type": "markdown",
      "source": [
        "Enter your response:  \n",
        "Accuracy: 1.0  \n",
        "Precision: 1.0  \n",
        "Recall: 1.0  \n",
        "F1-Score:  1.000"
      ],
      "metadata": {
        "id": "CUQhoDsI8yVa"
      }
    },
    {
      "cell_type": "markdown",
      "source": [
        "# Problem 4: Multiple Logistic Regression for Customer Attrition Prediction\n",
        "\n",
        "Objective: Build a logistic regression model to predict the chance of attrition for a given customer using multiple predictor variables.\n",
        "\n",
        "Dataset: Fiberbits/Fiberbits.csv\n",
        "\n",
        "Instructions:\n",
        "\n",
        "1. The dependent variable is binary, representing whether the customer is active or has already left the network.\n",
        "2. The model should consider multiple predictor variables such as age, gender, place, income, etc., to predict customer attrition.\n",
        "3. Implement the logistic regression using the provided dataset.\n",
        "Evaluate the model's performance to assess how well it predicts customer attrition.\n",
        "4. Identify and discuss the most impacting variables on customer attrition based on the logistic regression analysis.\n",
        "\n",
        "Note: Make use of the provided dataset and libraries like pandas, sklearn, and statsmodels for data loading, modeling, and analysis. Provide clear explanations of the steps taken and the interpretation of the results.\n",
        "\n",
        "Hints for reading the file:\n",
        "1. Go to https://github.com/usharanijk/datascience/blob/main/Fiberbits.csv to download the dataset file\n",
        "2. Upload the Fiberbits.csv to your \"My Drive\", on the upper left corner of your personal Google Drive, then use the following code to load it to your program for the multiple logistic analysis\n",
        "\n",
        "from google.colab import drive\n",
        "\n",
        "drive.mount('/content/drive')\n",
        "\n",
        "file_path = '/content/drive/MyDrive/Fiberbits.csv'\n",
        "\n",
        "Fiber = pd.read_csv(file_path)"
      ],
      "metadata": {
        "id": "r1PBrHvN_WJZ"
      }
    },
    {
      "cell_type": "markdown",
      "source": [
        "Step 1. Import pandas as pd, matplotlib.pyplot as plt, and statsmodels.api as sm. From sklearn.linear_model import LogisticRegression. From sklearn.metrics, import confusion_matrix."
      ],
      "metadata": {
        "id": "uF_TZUjaH4lW"
      }
    },
    {
      "cell_type": "code",
      "source": [
        "import pandas as pd\n",
        "import matplotlib.pyplot as plt\n",
        "import statsmodels.api as sm\n",
        "from sklearn.linear_model import LogisticRegression\n",
        "from sklearn.metrics import confusion_matrix\n"
      ],
      "metadata": {
        "id": "8wiC7QyJH425"
      },
      "execution_count": null,
      "outputs": []
    },
    {
      "cell_type": "markdown",
      "source": [
        "Step 2. Access the data on google drive."
      ],
      "metadata": {
        "id": "BJPsK-PNH57x"
      }
    },
    {
      "cell_type": "code",
      "source": [
        "from google.colab import drive\n",
        "drive.mount('/content/drive')"
      ],
      "metadata": {
        "colab": {
          "base_uri": "https://localhost:8080/"
        },
        "id": "TLrbnfqeH6LS",
        "outputId": "170fe4ca-40fc-41e3-d9c7-2cfd432c222b"
      },
      "execution_count": null,
      "outputs": [
        {
          "output_type": "stream",
          "name": "stdout",
          "text": [
            "Mounted at /content/drive\n"
          ]
        }
      ]
    },
    {
      "cell_type": "markdown",
      "source": [
        "Step 3. Load the dataset. Make sure you have downloaded the file from the provided website and uploaded into \"MyDrive\"."
      ],
      "metadata": {
        "id": "D9ZJKDvIH6zu"
      }
    },
    {
      "cell_type": "code",
      "source": [
        "file_path = '/content/drive/MyDrive/Fiberbits.csv'\n",
        "Fiber = pd.read_csv(file_path)\n",
        "\n",
        "list(Fiber.columns.values)"
      ],
      "metadata": {
        "id": "UnE0gNUuH6-x",
        "colab": {
          "base_uri": "https://localhost:8080/"
        },
        "outputId": "9e2483b0-a902-4423-c36f-feab814432a4"
      },
      "execution_count": null,
      "outputs": [
        {
          "output_type": "execute_result",
          "data": {
            "text/plain": [
              "['active_cust',\n",
              " 'income',\n",
              " 'months_on_network',\n",
              " 'Num_complaints',\n",
              " 'number_plan_changes',\n",
              " 'relocated',\n",
              " 'monthly_bill',\n",
              " 'technical_issues_per_month',\n",
              " 'Speed_test_result']"
            ]
          },
          "metadata": {},
          "execution_count": 30
        }
      ]
    },
    {
      "cell_type": "markdown",
      "source": [
        "Step 4. Build a model to predict the chance of attrition for a given customer using all the features."
      ],
      "metadata": {
        "id": "13lC0836H8qH"
      }
    },
    {
      "cell_type": "code",
      "source": [
        "logistic = LogisticRegression(max_iter=300)\n",
        "logistic.fit(Fiber[[\"income\"] + ['months_on_network'] + ['Num_complaints'] + ['number_plan_changes'] +\n",
        "                 ['relocated'] + ['monthly_bill'] + ['technical_issues_per_month'] + ['Speed_test_result']],\n",
        "             Fiber['active_cust'])\n",
        "\n",
        "predict1 = logistic.predict(Fiber[[\"income\"] + ['months_on_network'] + ['Num_complaints'] + ['number_plan_changes'] +\n",
        "                                  ['relocated'] + ['monthly_bill'] + ['technical_issues_per_month'] +\n",
        "                                  ['Speed_test_result']])"
      ],
      "metadata": {
        "id": "lpDfQqKoH8z4"
      },
      "execution_count": null,
      "outputs": []
    },
    {
      "cell_type": "markdown",
      "source": [
        "Step 5. Create a confusion matrix to evaluate your model"
      ],
      "metadata": {
        "id": "uDmbo-k2H-Lf"
      }
    },
    {
      "cell_type": "code",
      "source": [
        "cm1 = confusion_matrix(Fiber[['active_cust']], predict1)\n",
        "\n",
        "fig, ax = plt.subplots(figsize=(8, 8))\n",
        "ax.imshow(cm1)\n",
        "ax.grid(False)\n",
        "ax.xaxis.set(ticks=(0, 1), ticklabels=('Predicted 0s', 'Predicted 1s'))\n",
        "ax.yaxis.set(ticks=(0, 1), ticklabels=('Actual 0s', 'Actual 1s'))\n",
        "ax.set_ylim(1.5, -0.5)\n",
        "for i in range(2):\n",
        "    for j in range(2):\n",
        "        ax.text(j, i, cm1[i, j], ha='center', va='center', color='red')\n",
        "plt.show()\n",
        "\n",
        "total1 = sum(sum(cm1))\n",
        "accuracy1 = (cm1[0, 0] + cm1[1, 1]) / total1\n",
        "print(\"The accuracy of the model is\", accuracy1)"
      ],
      "metadata": {
        "id": "ViD1WS6SH-h6",
        "colab": {
          "base_uri": "https://localhost:8080/",
          "height": 693
        },
        "outputId": "284ef103-5803-4700-94d3-f1b976cd8976"
      },
      "execution_count": null,
      "outputs": [
        {
          "output_type": "display_data",
          "data": {
            "text/plain": [
              "<Figure size 800x800 with 1 Axes>"
            ],
            "image/png": "[encoded data removed]"
          },
          "metadata": {}
        },
        {
          "output_type": "stream",
          "name": "stdout",
          "text": [
            "The accuracy of the model is 0.74863\n"
          ]
        }
      ]
    },
    {
      "cell_type": "markdown",
      "source": [
        "Step 6. Which variables are most impactful?"
      ],
      "metadata": {
        "id": "K8QlREXLH-qz"
      }
    },
    {
      "cell_type": "code",
      "source": [
        "logit1 = sm.Logit(Fiber['active_cust'],\n",
        "                  Fiber[['income'] + ['months_on_network'] + ['Num_complaints'] + ['number_plan_changes'] +\n",
        "                        ['relocated'] + ['monthly_bill'] + ['technical_issues_per_month'] + ['Speed_test_result']])\n",
        "\n",
        "result1 = logit1.fit()\n",
        "result1.summary()\n",
        "\n"
      ],
      "metadata": {
        "id": "MeTfZdUdH-yC",
        "colab": {
          "base_uri": "https://localhost:8080/",
          "height": 431
        },
        "outputId": "7c5fdac9-728b-4aaf-9743-c245b50516bd"
      },
      "execution_count": null,
      "outputs": [
        {
          "output_type": "stream",
          "name": "stdout",
          "text": [
            "Optimization terminated successfully.\n",
            "         Current function value: 0.517172\n",
            "         Iterations 7\n"
          ]
        },
        {
          "output_type": "execute_result",
          "data": {
            "text/plain": [
              "<class 'statsmodels.iolib.summary.Summary'>\n",
              "\"\"\"\n",
              "                           Logit Regression Results                           \n",
              "==============================================================================\n",
              "Dep. Variable:            active_cust   No. Observations:               100000\n",
              "Model:                          Logit   Df Residuals:                    99992\n",
              "Method:                           MLE   Df Model:                            7\n",
              "Date:                Sun, 03 Dec 2023   Pseudo R-squ.:                  0.2403\n",
              "Time:                        04:09:53   Log-Likelihood:                -51717.\n",
              "converged:                       True   LL-Null:                       -68074.\n",
              "Covariance Type:            nonrobust   LLR p-value:                     0.000\n",
              "==============================================================================================\n",
              "                                 coef    std err          z      P>|z|      [0.025      0.975]\n",
              "----------------------------------------------------------------------------------------------\n",
              "income                       1.71e-05   4.17e-06      4.097      0.000    8.92e-06    2.53e-05\n",
              "months_on_network              0.0150      0.000     31.172      0.000       0.014       0.016\n",
              "Num_complaints                -1.7669      0.027    -65.284      0.000      -1.820      -1.714\n",
              "number_plan_changes           -0.1784      0.007    -23.909      0.000      -0.193      -0.164\n",
              "relocated                     -3.0826      0.040    -76.259      0.000      -3.162      -3.003\n",
              "monthly_bill                  -0.0024      0.000    -16.014      0.000      -0.003      -0.002\n",
              "technical_issues_per_month    -0.4636      0.007    -64.010      0.000      -0.478      -0.449\n",
              "Speed_test_result              0.1094      0.001     75.073      0.000       0.107       0.112\n",
              "==============================================================================================\n",
              "\"\"\""
            ],
            "text/html": [
              "<table class=\"simpletable\">\n",
              "<caption>Logit Regression Results</caption>\n",
              "<tr>\n",
              "  <th>Dep. Variable:</th>      <td>active_cust</td>   <th>  No. Observations:  </th>  <td>100000</td> \n",
              "</tr>\n",
              "<tr>\n",
              "  <th>Model:</th>                 <td>Logit</td>      <th>  Df Residuals:      </th>  <td> 99992</td> \n",
              "</tr>\n",
              "<tr>\n",
              "  <th>Method:</th>                 <td>MLE</td>       <th>  Df Model:          </th>  <td>     7</td> \n",
              "</tr>\n",
              "<tr>\n",
              "  <th>Date:</th>            <td>Sun, 03 Dec 2023</td> <th>  Pseudo R-squ.:     </th>  <td>0.2403</td> \n",
              "</tr>\n",
              "<tr>\n",
              "  <th>Time:</th>                <td>04:09:53</td>     <th>  Log-Likelihood:    </th> <td> -51717.</td>\n",
              "</tr>\n",
              "<tr>\n",
              "  <th>converged:</th>             <td>True</td>       <th>  LL-Null:           </th> <td> -68074.</td>\n",
              "</tr>\n",
              "<tr>\n",
              "  <th>Covariance Type:</th>     <td>nonrobust</td>    <th>  LLR p-value:       </th>  <td> 0.000</td> \n",
              "</tr>\n",
              "</table>\n",
              "<table class=\"simpletable\">\n",
              "<tr>\n",
              "               <td></td>                 <th>coef</th>     <th>std err</th>      <th>z</th>      <th>P>|z|</th>  <th>[0.025</th>    <th>0.975]</th>  \n",
              "</tr>\n",
              "<tr>\n",
              "  <th>income</th>                     <td>  1.71e-05</td> <td> 4.17e-06</td> <td>    4.097</td> <td> 0.000</td> <td> 8.92e-06</td> <td> 2.53e-05</td>\n",
              "</tr>\n",
              "<tr>\n",
              "  <th>months_on_network</th>          <td>    0.0150</td> <td>    0.000</td> <td>   31.172</td> <td> 0.000</td> <td>    0.014</td> <td>    0.016</td>\n",
              "</tr>\n",
              "<tr>\n",
              "  <th>Num_complaints</th>             <td>   -1.7669</td> <td>    0.027</td> <td>  -65.284</td> <td> 0.000</td> <td>   -1.820</td> <td>   -1.714</td>\n",
              "</tr>\n",
              "<tr>\n",
              "  <th>number_plan_changes</th>        <td>   -0.1784</td> <td>    0.007</td> <td>  -23.909</td> <td> 0.000</td> <td>   -0.193</td> <td>   -0.164</td>\n",
              "</tr>\n",
              "<tr>\n",
              "  <th>relocated</th>                  <td>   -3.0826</td> <td>    0.040</td> <td>  -76.259</td> <td> 0.000</td> <td>   -3.162</td> <td>   -3.003</td>\n",
              "</tr>\n",
              "<tr>\n",
              "  <th>monthly_bill</th>               <td>   -0.0024</td> <td>    0.000</td> <td>  -16.014</td> <td> 0.000</td> <td>   -0.003</td> <td>   -0.002</td>\n",
              "</tr>\n",
              "<tr>\n",
              "  <th>technical_issues_per_month</th> <td>   -0.4636</td> <td>    0.007</td> <td>  -64.010</td> <td> 0.000</td> <td>   -0.478</td> <td>   -0.449</td>\n",
              "</tr>\n",
              "<tr>\n",
              "  <th>Speed_test_result</th>          <td>    0.1094</td> <td>    0.001</td> <td>   75.073</td> <td> 0.000</td> <td>    0.107</td> <td>    0.112</td>\n",
              "</tr>\n",
              "</table>"
            ],
            "text/latex": "\\begin{center}\n\\begin{tabular}{lclc}\n\\toprule\n\\textbf{Dep. Variable:}                &   active\\_cust   & \\textbf{  No. Observations:  } &   100000    \\\\\n\\textbf{Model:}                        &      Logit       & \\textbf{  Df Residuals:      } &    99992    \\\\\n\\textbf{Method:}                       &       MLE        & \\textbf{  Df Model:          } &        7    \\\\\n\\textbf{Date:}                         & Sun, 03 Dec 2023 & \\textbf{  Pseudo R-squ.:     } &   0.2403    \\\\\n\\textbf{Time:}                         &     04:09:53     & \\textbf{  Log-Likelihood:    } &   -51717.   \\\\\n\\textbf{converged:}                    &       True       & \\textbf{  LL-Null:           } &   -68074.   \\\\\n\\textbf{Covariance Type:}              &    nonrobust     & \\textbf{  LLR p-value:       } &    0.000    \\\\\n\\bottomrule\n\\end{tabular}\n\\begin{tabular}{lcccccc}\n                                       & \\textbf{coef} & \\textbf{std err} & \\textbf{z} & \\textbf{P$> |$z$|$} & \\textbf{[0.025} & \\textbf{0.975]}  \\\\\n\\midrule\n\\textbf{income}                        &     1.71e-05  &     4.17e-06     &     4.097  &         0.000        &     8.92e-06    &     2.53e-05     \\\\\n\\textbf{months\\_on\\_network}           &       0.0150  &        0.000     &    31.172  &         0.000        &        0.014    &        0.016     \\\\\n\\textbf{Num\\_complaints}               &      -1.7669  &        0.027     &   -65.284  &         0.000        &       -1.820    &       -1.714     \\\\\n\\textbf{number\\_plan\\_changes}         &      -0.1784  &        0.007     &   -23.909  &         0.000        &       -0.193    &       -0.164     \\\\\n\\textbf{relocated}                     &      -3.0826  &        0.040     &   -76.259  &         0.000        &       -3.162    &       -3.003     \\\\\n\\textbf{monthly\\_bill}                 &      -0.0024  &        0.000     &   -16.014  &         0.000        &       -0.003    &       -0.002     \\\\\n\\textbf{technical\\_issues\\_per\\_month} &      -0.4636  &        0.007     &   -64.010  &         0.000        &       -0.478    &       -0.449     \\\\\n\\textbf{Speed\\_test\\_result}           &       0.1094  &        0.001     &    75.073  &         0.000        &        0.107    &        0.112     \\\\\n\\bottomrule\n\\end{tabular}\n%\\caption{Logit Regression Results}\n\\end{center}"
          },
          "metadata": {},
          "execution_count": 33
        }
      ]
    },
    {
      "cell_type": "markdown",
      "source": [
        "What is the accuracy in % of the model? What are the two impacting variables? What are the two least impacting variables? Hint, what is the absolute value of the z score of each variable? This will tell you if it has an impact. Enter your response in the text box below."
      ],
      "metadata": {
        "id": "ZwrhVsxfH-5U"
      }
    },
    {
      "cell_type": "markdown",
      "source": [
        "Enter the accuracy, top two impacting variables, and bottom two impacting variables:"
      ],
      "metadata": {
        "id": "lQTy0dsN3861"
      }
    },
    {
      "cell_type": "markdown",
      "source": [
        "Accuracy: 74.863%    \n",
        "\n",
        "Two Highest Impact:  \n",
        "- relocated\n",
        "- Speed_test_result\n",
        "  \n",
        "Two Lowest Impact:  \n",
        "- income\n",
        "- monthly_bill\n",
        "\n",
        "\n"
      ],
      "metadata": {
        "id": "Eg0Fo3c04YPw"
      }
    }
  ]
}
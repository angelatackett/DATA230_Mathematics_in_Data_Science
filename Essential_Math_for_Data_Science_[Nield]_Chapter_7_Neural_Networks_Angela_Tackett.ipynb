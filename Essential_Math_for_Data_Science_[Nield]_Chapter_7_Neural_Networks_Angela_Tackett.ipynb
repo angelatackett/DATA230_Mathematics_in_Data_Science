{
  "nbformat": 4,
  "nbformat_minor": 0,
  "metadata": {
    "colab": {
      "provenance": [],
      "include_colab_link": true
    },
    "kernelspec": {
      "name": "python3",
      "display_name": "Python 3"
    },
    "language_info": {
      "name": "python"
    }
  },
  "cells": [
    {
      "cell_type": "markdown",
      "metadata": {
        "id": "view-in-github",
        "colab_type": "text"
      },
      "source": [
        "<a href=\"https://colab.research.google.com/github/angelatackett/Mathematics-for-Data-Science---DATA230/blob/main/Essential_Math_for_Data_Science_%5BNield%5D_Chapter_7_Neural_Networks_Angela_Tackett.ipynb\" target=\"_parent\"><img src=\"https://colab.research.google.com/assets/colab-badge.svg\" alt=\"Open In Colab\"/></a>"
      ]
    },
    {
      "cell_type": "markdown",
      "source": [
        "Welcome to your assignment about concepts covered in Chapter 7 of *Essential Math for Data Science* by Thomas Nield. You will be exploring neural networks in this assignment.\n",
        "\n",
        "Please read each question carefully and provide detailed explanations for your answers, including any relevant calculations or work. You are also required to provide Python solutions for the technical problems in each question."
      ],
      "metadata": {
        "id": "lgiYK3wfQXjr"
      }
    },
    {
      "cell_type": "markdown",
      "source": [
        "# Problem 1 Forward Propagation\n",
        "\n",
        "Implement the forward propagation algorithm for a simple neural network with one hidden layer. The neural network has the following specifications:\n",
        "\n",
        "1. Input layer with 3 features\n",
        "\n",
        "2. Hidden layer with 4 units, using the ReLU activation function\n",
        "\n",
        "3. Output layer with 2 units, using the softmax activation function\n",
        "\n",
        "Write a Python function forward_propagation that takes an input array X of shape (m, 3), where m is the number of examples, and returns the output predictions of shape (m, 2). Assume the weights and biases of the neural network are pre-defined.\n",
        "\n",
        "\n",
        "Notes (more detailed explanation of the question):\n",
        "\n",
        " The forward propagation algorithm for a simple neural network with one hidden layer involves passing the input data through the network to make predictions. This neural network has three layers: an input layer with 3 features, a hidden layer with 4 units (neurons), and an output layer with 2 units. Each unit in the hidden layer uses the ReLU activation function, while each unit in the output layer uses the softmax activation function.\n",
        "\n",
        "The purpose of the forward propagation algorithm is to take the input data and compute the predicted output of the neural network. The input data comes in the form of an array called X, where each row represents an example, and there are three columns representing the three features. The goal is to calculate the predictions for each example and return the results in an array of shape (m, 2), where m is the number of examples, and 2 represents the two units in the output layer (the classes for the binary classification problem).\n",
        "\n",
        "To implement this algorithm in Python, you can create a function called forward_propagation. This function takes the input array X as its input, and you should assume that the weights and biases of the neural network have been pre-defined. These weights and biases determine how the input data will be transformed as it passes through the neural network to produce the predictions.\n",
        "\n",
        "The steps involved in forward propagation are as follows:\n",
        "\n",
        "Take the input X and compute the values of the hidden layer units using the ReLU activation function.\n",
        "Use the weights and biases of the connections between the input layer and the hidden layer to calculate the values of the hidden units.\n",
        "Once the values of the hidden units are calculated, apply the softmax activation function to calculate the predictions of the output layer.\n",
        "Return the predictions for each example in the form of an array of shape (m, 2).\n",
        "After implementing the forward_propagation function, you can use it to make predictions on new data using the pre-defined weights and biases of the neural network."
      ],
      "metadata": {
        "id": "1NPMNlgAQUoG"
      }
    },
    {
      "cell_type": "markdown",
      "source": [
        "Step 1. Import numpy as np. *Nothing to change in the code below.*"
      ],
      "metadata": {
        "id": "jcOJK71EQi_m"
      }
    },
    {
      "cell_type": "markdown",
      "source": [],
      "metadata": {
        "id": "8lHDTepdrKQX"
      }
    },
    {
      "cell_type": "code",
      "source": [
        "import numpy as np"
      ],
      "metadata": {
        "id": "UsCO0G4cO7Un"
      },
      "execution_count": null,
      "outputs": []
    },
    {
      "cell_type": "markdown",
      "source": [
        "Step 2. Define the weights and biases in your forward propagation. We have predefined weights and biases below."
      ],
      "metadata": {
        "id": "FJL-8IhuO8jY"
      }
    },
    {
      "cell_type": "code",
      "source": [
        "def forward_propagation(X):\n",
        "    # Define the weights and biases\n",
        "    W1 = np.array([[0.1, 0.2, 0.3, 0.4],\n",
        "                   [0.5, 0.6, 0.7, 0.8],\n",
        "                   [0.9, 1.0, 1.1, 1.2]])\n",
        "\n",
        "    b1 = np.array([0.1, 0.2, 0.3, 0.4])\n",
        "\n",
        "    W2 = np.array([[0.5, 0.6],\n",
        "                   [0.7, 0.8],\n",
        "                   [0.9, 1.0],\n",
        "                   [1.1, 1.2]])\n",
        "\n",
        "    b2 = np.array([0.5, 0.6])\n",
        "    Z1 = np.dot(X, W1) + b1\n",
        "    A1 = np.maximum(0, Z1)  # ReLU activation\n",
        "\n",
        "    Z2 = np.dot(A1, W2) + b2\n",
        "    exp_scores = np.exp(Z2)\n",
        "    A2 = exp_scores / np.sum(exp_scores, axis=1, keepdims=True)  # Softmax activation\n",
        "\n",
        "    return A2"
      ],
      "metadata": {
        "id": "VAELOsNXPGIz"
      },
      "execution_count": null,
      "outputs": []
    },
    {
      "cell_type": "markdown",
      "source": [
        "Step 3. Enter different numbers (ranging from 1-10) in the arrays (3 each) below to see what the prediction will be. Feel free to experiment by repeating an array to see what happens with the prediction."
      ],
      "metadata": {
        "id": "Lp_4ja5_SG09"
      }
    },
    {
      "cell_type": "code",
      "source": [
        "X = np.array([[1,2,3 ],\n",
        "              [10,9,8]])\n",
        "predictions1 = forward_propagation(X)\n",
        "print(predictions1)"
      ],
      "metadata": {
        "id": "qFlxCDvFO8wO",
        "colab": {
          "base_uri": "https://localhost:8080/"
        },
        "outputId": "13de2bba-05f5-4914-b5f1-1b8bf49a35ee"
      },
      "execution_count": null,
      "outputs": [
        {
          "output_type": "stream",
          "name": "stdout",
          "text": [
            "[[0.11105597 0.88894403]\n",
            " [0.00100677 0.99899323]]\n"
          ]
        }
      ]
    },
    {
      "cell_type": "code",
      "source": [
        "X = np.array([[4,5,6 ],\n",
        "              [10,9,8 ]])\n",
        "predictions2 = forward_propagation(X)\n",
        "print(predictions2)"
      ],
      "metadata": {
        "id": "ohv3_Tu9W9EG",
        "colab": {
          "base_uri": "https://localhost:8080/"
        },
        "outputId": "6f26a5a9-8a4f-4ebf-a5ae-86a8dad13d86"
      },
      "execution_count": null,
      "outputs": [
        {
          "output_type": "stream",
          "name": "stdout",
          "text": [
            "[[0.01189113 0.98810887]\n",
            " [0.00100677 0.99899323]]\n"
          ]
        }
      ]
    },
    {
      "cell_type": "code",
      "source": [
        "X = np.array([[1,8,7 ],\n",
        "              [7,7,7 ]])\n",
        "predictions3 = forward_propagation(X)\n",
        "print(predictions3)"
      ],
      "metadata": {
        "id": "TUQVY1cTXKIS",
        "colab": {
          "base_uri": "https://localhost:8080/"
        },
        "outputId": "0dd4f854-5d59-4b95-c209-ccd530936bb6"
      },
      "execution_count": null,
      "outputs": [
        {
          "output_type": "stream",
          "name": "stdout",
          "text": [
            "[[0.00486893 0.99513107]\n",
            " [0.00347043 0.99652957]]\n"
          ]
        }
      ]
    },
    {
      "cell_type": "markdown",
      "source": [
        "# Problem 2\n",
        "Task: Use a neural network in Python to solve a classification problem using the given dataset. Follow the example in this link: https://www.analyticsvidhya.com/blog/2021/10/implementing-artificial-neural-networkclassification-in-python-from-scratch/\n",
        "A pdf is available under Supportive Learning Materials in Week 8.\n",
        "\n",
        "Dataset Description:\n",
        "We have a dataset from the finance domain with 100,000 records and 14 dimensions. The dimensions include RowNumber, CustomerId, Surname, CreditScore, Geography, Gender, Age, Tenure, Balance, NumOfProducts, HasCrCard, IsActiveMember, EstimatedSalary, and Exited. The goal is to create an artificial neural network that predicts whether a customer will exit the bank or not based on the given independent variables.\n",
        "\n",
        "We have provided the Churn_Modelling.csv file, you need to upload it to your Google drive so you are able to access it for this problem. The file was downloaded from:\n",
        "https://www.kaggle.com/datasets/aakash50897/churn-modellingcsv?resource=download\n",
        "\n",
        "Follow the steps provided, making changes to the code when requested. Then change the outer layer activation to compare the accuracies of these three outer layer activation: sigmoid, softmax and exponential."
      ],
      "metadata": {
        "id": "xWSyysYyQVPd"
      }
    },
    {
      "cell_type": "markdown",
      "source": [
        "Step 1: Import the necessary libraries: numpy, pandas, and tensorflow. Numpy library for numerical operations in Python, which provides support for handling arrays and matrices efficiently. Pandas: A library for data manipulation and analysis, allowing easy handling of structured data. TensorFlow: An open-source machine learning library developed by Google, used for building and training neural networks.\n"
      ],
      "metadata": {
        "id": "LO_6S485MSN6"
      }
    },
    {
      "cell_type": "code",
      "source": [
        "#Importing necessary Libraries\n",
        "import numpy as np\n",
        "import pandas as pd\n",
        "import tensorflow as tf\n",
        "from sklearn.preprocessing import LabelEncoder, OneHotEncoder, StandardScaler\n",
        "from sklearn.compose import ColumnTransformer\n",
        "from sklearn.model_selection import train_test_split"
      ],
      "metadata": {
        "id": "tFbexmE0MSYN"
      },
      "execution_count": null,
      "outputs": []
    },
    {
      "cell_type": "markdown",
      "source": [
        "Step 2: Load the dataset using the read_csv() method from pandas. In this step, we read the dataset from a CSV file into a pandas DataFrame using the read_csv() method. The dataset is usually organized in a tabular format with rows representing examples (data points) and columns representing features."
      ],
      "metadata": {
        "id": "g_nLBRwbMShv"
      }
    },
    {
      "cell_type": "code",
      "source": [
        "#this is to set the file path for Python to access the dataset under Files in your Google Drive\n",
        "# You need to upload the Churn_Modelling.csv into your \"My Drive\", on the upper left corner of your Google Drive\n",
        "from google.colab import drive\n",
        "drive.mount('/content/drive')\n",
        "#Loading Dataset\n",
        "file_path = '/content/drive/MyDrive/Churn_Modelling.csv'\n",
        "data = pd.read_csv(file_path)\n",
        "# Displaying the loaded data\n",
        "print(data.head())"
      ],
      "metadata": {
        "colab": {
          "base_uri": "https://localhost:8080/"
        },
        "id": "8HyKQZmNMSpf",
        "outputId": "26e8ff3d-1b9c-49e5-f9b4-e128fe184feb"
      },
      "execution_count": null,
      "outputs": [
        {
          "output_type": "stream",
          "name": "stdout",
          "text": [
            "Mounted at /content/drive\n",
            "   RowNumber  CustomerId   Surname  CreditScore Geography  Gender  Age  \\\n",
            "0          1    15634602  Hargrave          619    France  Female   42   \n",
            "1          2    15647311      Hill          608     Spain  Female   41   \n",
            "2          3    15619304      Onio          502    France  Female   42   \n",
            "3          4    15701354      Boni          699    France  Female   39   \n",
            "4          5    15737888  Mitchell          850     Spain  Female   43   \n",
            "\n",
            "   Tenure    Balance  NumOfProducts  HasCrCard  IsActiveMember  \\\n",
            "0       2       0.00              1          1               1   \n",
            "1       1   83807.86              1          0               1   \n",
            "2       8  159660.80              3          1               0   \n",
            "3       1       0.00              2          0               0   \n",
            "4       2  125510.82              1          1               1   \n",
            "\n",
            "   EstimatedSalary  Exited  \n",
            "0        101348.88       1  \n",
            "1        112542.58       0  \n",
            "2        113931.57       1  \n",
            "3         93826.63       0  \n",
            "4         79084.10       0  \n"
          ]
        }
      ]
    },
    {
      "cell_type": "markdown",
      "source": [
        "Step 3: Generate the matrix of features (X) by excluding the first three columns and the last column from the dataset. The feature matrix X is created by selecting the relevant columns from the dataset, excluding the first three columns (which might contain some identifier or irrelevant information) and the last column (which contains the dependent variable, the one we want to predict).\n",
        "*We are using \"iloc\" below from pandas data frame to allow us to fetch the desired columns. If you look at the data, you will see that the first three columns are RowNumber, CustomerID, and Surname. None of these columns are necessary in the analysis so we are ignoring them and starting with \"Credit Score\". We also don't want to include our target variable (last column) in the matrix, so we use -1 to exclude it*."
      ],
      "metadata": {
        "id": "KRiAgqDcMSzN"
      }
    },
    {
      "cell_type": "code",
      "source": [
        "#Generating Matrix of Features (X)\n",
        "X = data.iloc[:, 3:-1].values\n"
      ],
      "metadata": {
        "id": "Fn68lMxHMS8k"
      },
      "execution_count": null,
      "outputs": []
    },
    {
      "cell_type": "markdown",
      "source": [
        "Step 4: Generate the dependent variable vector (Y) by selecting the last column from the dataset. In this step, we create the dependent variable vector Y by selecting the last column from the dataset. This column represents the target variable or the labels we want to predict. *We are using iloc to pick the last column \"exited\" as our target variable, this represented by -1*. *Nothing to change in the code below.*\n"
      ],
      "metadata": {
        "id": "osu7VMUdMTHz"
      }
    },
    {
      "cell_type": "code",
      "source": [
        "#Generating Dependent Variable Vector(Y)\n",
        "Y = data.iloc[:, -1].values"
      ],
      "metadata": {
        "id": "4AlWq8mWMTQj"
      },
      "execution_count": null,
      "outputs": []
    },
    {
      "cell_type": "markdown",
      "source": [
        "Step 5: Encode the categorical variable \"Gender\" using label encoding. Label encoding is used to convert categorical data (like \"Gender\") into numerical format. It assigns a unique integer to each category in the \"Gender\" column, making it easier for the neural network to process. Neural networks perform best when their inputs are digits rather than strings. So we encode it to make sure the model can use it. We have two genders, so we use 2. If we had more than 2, we would add more numbers to match the number of categories."
      ],
      "metadata": {
        "id": "1jqzlbKhMTbJ"
      }
    },
    {
      "cell_type": "code",
      "source": [
        "#Encoding Categorical Variable Gender\n",
        "LE1 = LabelEncoder()\n",
        "X[:, 2] = np.array(LE1.fit_transform(X[:, 2]))\n"
      ],
      "metadata": {
        "id": "9sj3SbSaMTjm"
      },
      "execution_count": null,
      "outputs": []
    },
    {
      "cell_type": "markdown",
      "source": [
        "Step 6: Encode the categorical variable \"Geography\" using one-hot encoding. One-hot encoding is another technique for handling categorical data. It creates binary columns for each category in the \"Geography\" column, representing the presence or absence of each category. Spain will be encoded as 001, France will be 010, and Germany is 100. This helps to prevent the neural network from thinking that higher numbers are more important. We don't want to introduce bias accidentially..."
      ],
      "metadata": {
        "id": "fRwn6k55MTuy"
      }
    },
    {
      "cell_type": "code",
      "source": [
        "#Encoding Categorical Variable Country\n",
        "ct = ColumnTransformer(transformers=[('encoder', OneHotEncoder(), [1])], remainder=\"passthrough\")\n",
        "X = np.array(ct.fit_transform(X))\n"
      ],
      "metadata": {
        "id": "-GvTUdTNMT3L"
      },
      "execution_count": null,
      "outputs": []
    },
    {
      "cell_type": "markdown",
      "source": [
        "Step 7: Split the dataset into training and testing datasets using an 80:20 ratio. To evaluate the performance of the neural network, we need to split the dataset into training and testing datasets. The training dataset is used to train the model, while the testing dataset is used to evaluate its performance on unseen data.\n"
      ],
      "metadata": {
        "id": "eZFetbLgMUCD"
      }
    },
    {
      "cell_type": "code",
      "source": [
        "#Splitting Dataset into Training and Testing Dataset\n",
        "X_train, X_test, Y_train, Y_test = train_test_split(X, Y, test_size=.2, random_state=0)"
      ],
      "metadata": {
        "id": "0NbfdnVBMULk"
      },
      "execution_count": null,
      "outputs": []
    },
    {
      "cell_type": "markdown",
      "source": [
        "Step 8: Perform feature scaling on the training and testing datasets using standardization. Feature scaling is a process of normalizing the features to ensure they all have a similar scale. Standardization is a common method that scales the features to have a mean of 0 and a standard deviation of 1. It helps the neural network to converge faster during training."
      ],
      "metadata": {
        "id": "GQ7BMTJuMUV4"
      }
    },
    {
      "cell_type": "code",
      "source": [
        "#Performing Feature Scaling\n",
        "sc = StandardScaler()\n",
        "X_train = sc.fit_transform(X_train)\n",
        "X_test = sc.transform(X_test)"
      ],
      "metadata": {
        "id": "u3uhdzwlMUfo"
      },
      "execution_count": null,
      "outputs": []
    },
    {
      "cell_type": "markdown",
      "source": [
        "Step 9: Initialize the artificial neural network using the Sequential class from the Keras library. In this step, we create an instance of the Sequential class from the Keras library. The Sequential class allows us to build a neural network by stacking layers on top of each other in a linear fashion."
      ],
      "metadata": {
        "id": "4s87MnypMUr5"
      }
    },
    {
      "cell_type": "code",
      "source": [
        "#Initializing Artificial Neural Network\n",
        "ann = tf.keras.models.Sequential()"
      ],
      "metadata": {
        "id": "yxf6zwqBMU09"
      },
      "execution_count": null,
      "outputs": []
    },
    {
      "cell_type": "markdown",
      "source": [
        "Step 10: Create two hidden layers with 6 neurons each and \"relu\" activation function. In the neural network, we define two hidden layers, each with 6 neurons. The \"relu\" (rectified linear unit) activation function is used to introduce non-linearity in the model, allowing it to learn complex patterns in the data."
      ],
      "metadata": {
        "id": "9eOu0FhEMvfp"
      }
    },
    {
      "cell_type": "code",
      "source": [
        "#Adding First Hidden Layer\n",
        "ann.add(tf.keras.layers.Dense(units=6, activation=\"relu\"))\n",
        "\n",
        "#Adding Second Hidden Layer\n",
        "ann.add(tf.keras.layers.Dense(units=6, activation=\"relu\"))\n"
      ],
      "metadata": {
        "id": "COiDlRZaMVH4"
      },
      "execution_count": null,
      "outputs": []
    },
    {
      "cell_type": "markdown",
      "source": [
        "Step 11: Create the output layer with 1 neuron and \"sigmoid\" activation function. The output layer has 1 neuron because we are performing binary classification (predicting one of two classes). The \"sigmoid\" activation function is used here to squash the output between 0 and 1, representing the probability of the positive class."
      ],
      "metadata": {
        "id": "EZL2-EfvMVRl"
      }
    },
    {
      "cell_type": "code",
      "source": [
        "#Adding Output Layer\n",
        "ann.add(tf.keras.layers.Dense(units=1, activation=\"sigmoid\"))"
      ],
      "metadata": {
        "id": "fDulrcuBMVck"
      },
      "execution_count": null,
      "outputs": []
    },
    {
      "cell_type": "markdown",
      "source": [
        "Step 12: Compile the neural network using the \"adam\" optimizer, \"binary_crossentropy\" loss function, and \"accuracy\" as the performance metric. Before training the neural network, we need to compile it. Here, we specify the optimizer, loss function, and performance metric to be used during the training process."
      ],
      "metadata": {
        "id": "MDr5oH1CMVl3"
      }
    },
    {
      "cell_type": "code",
      "source": [
        "#Compiling ANN\n",
        "ann.compile(optimizer=\"adam\", loss=\"binary_crossentropy\", metrics=['accuracy'])"
      ],
      "metadata": {
        "id": "N8D89uOBM5hp"
      },
      "execution_count": null,
      "outputs": []
    },
    {
      "cell_type": "markdown",
      "source": [
        "Step 13: Fit the neural network on the training dataset with a batch size of 32 and 100 epochs. The final step is to train the neural network using the fit() method. We provide the training dataset, batch size (number of samples used in each update), and the number of epochs (number of times the model will iterate over the entire training dataset). During the training process, the neural network learns the optimal weights and biases to make accurate predictions on new data."
      ],
      "metadata": {
        "id": "yYy8Gm-SSG34"
      }
    },
    {
      "cell_type": "code",
      "source": [
        "#Fitting ANN\n",
        "ann.fit(X_train, Y_train, batch_size=32, epochs=10)"
      ],
      "metadata": {
        "id": "KoRpduwaNwQr",
        "colab": {
          "base_uri": "https://localhost:8080/"
        },
        "outputId": "d044e188-99b7-451d-f007-aace8bfdfa58"
      },
      "execution_count": null,
      "outputs": [
        {
          "output_type": "stream",
          "name": "stdout",
          "text": [
            "Epoch 1/10\n",
            "250/250 [==============================] - 2s 3ms/step - loss: 0.6101 - accuracy: 0.6873\n",
            "Epoch 2/10\n",
            "250/250 [==============================] - 1s 3ms/step - loss: 0.4832 - accuracy: 0.7960\n",
            "Epoch 3/10\n",
            "250/250 [==============================] - 1s 3ms/step - loss: 0.4451 - accuracy: 0.7989\n",
            "Epoch 4/10\n",
            "250/250 [==============================] - 1s 3ms/step - loss: 0.4226 - accuracy: 0.8163\n",
            "Epoch 5/10\n",
            "250/250 [==============================] - 1s 2ms/step - loss: 0.4119 - accuracy: 0.8256\n",
            "Epoch 6/10\n",
            "250/250 [==============================] - 1s 2ms/step - loss: 0.4057 - accuracy: 0.8259\n",
            "Epoch 7/10\n",
            "250/250 [==============================] - 1s 2ms/step - loss: 0.4014 - accuracy: 0.8282\n",
            "Epoch 8/10\n",
            "250/250 [==============================] - 1s 2ms/step - loss: 0.3985 - accuracy: 0.8294\n",
            "Epoch 9/10\n",
            "250/250 [==============================] - 0s 2ms/step - loss: 0.3957 - accuracy: 0.8292\n",
            "Epoch 10/10\n",
            "250/250 [==============================] - 0s 2ms/step - loss: 0.3928 - accuracy: 0.8306\n"
          ]
        },
        {
          "output_type": "execute_result",
          "data": {
            "text/plain": [
              "<keras.src.callbacks.History at 0x7b7de7011c90>"
            ]
          },
          "metadata": {},
          "execution_count": 22
        }
      ]
    },
    {
      "cell_type": "markdown",
      "source": [
        "Step 14. It's your turn to experiment what happens when you enter a set of inputs. You will need to enter 12 values that are reasonable for the datset. As an example:\n",
        "\n",
        "The values 1, 0, 0, 600, 1, 40, 3, 60000, 2, 1, 1,50000\n",
        "would be a customer with a credit score of 600, female (1), 40 years old, from France (first three numbers are 1,0,0) who has been when the bank for 3 years, has a balance of 60,000, has 2 products, has a credit card (1), is an active member (1), and has an estimated salary of 50,000.\n",
        "\n",
        "Change the other numbers to see if you can find a customer who might leave (True)."
      ],
      "metadata": {
        "id": "1FW4MO9_WmAK"
      }
    },
    {
      "cell_type": "code",
      "source": [
        "#Predicting result for Single Observation\n",
        "print(ann.predict(sc.transform([[1, 0, 0, 600, 1, 40, 3, 60000, 2, 1, 1,50000]])) > 0.5)"
      ],
      "metadata": {
        "id": "AvknmL3cWmak",
        "colab": {
          "base_uri": "https://localhost:8080/"
        },
        "outputId": "c97babc2-95c0-43dd-b11a-5adbc13b3e05"
      },
      "execution_count": null,
      "outputs": [
        {
          "output_type": "stream",
          "name": "stdout",
          "text": [
            "1/1 [==============================] - 0s 22ms/step\n",
            "[[False]]\n"
          ]
        }
      ]
    },
    {
      "cell_type": "markdown",
      "source": [
        "Copy the code above and show 5 experiments with different inputs with at least 1 true prediction."
      ],
      "metadata": {
        "id": "1u2hN7pGcyZQ"
      }
    },
    {
      "cell_type": "code",
      "source": [
        "print(ann.predict(sc.transform([[1, 0, 0, 300, 1, 40, 3, 1000, 0, 1, 1,100]])) > 0.5) #Experiment 1"
      ],
      "metadata": {
        "id": "Z-F5fI4r-m9R",
        "colab": {
          "base_uri": "https://localhost:8080/"
        },
        "outputId": "7952b192-d4fc-47a6-8819-05ea9b0eebfa"
      },
      "execution_count": null,
      "outputs": [
        {
          "output_type": "stream",
          "name": "stdout",
          "text": [
            "1/1 [==============================] - 0s 34ms/step\n",
            "[[ True]]\n"
          ]
        }
      ]
    },
    {
      "cell_type": "code",
      "source": [
        "print(ann.predict(sc.transform([[1, 0, 0, 700, 1, 25, 3, 100000, 1, 1, 1,1000]])) > 0.5) #Experiment 2"
      ],
      "metadata": {
        "id": "-pbqFGab-orU",
        "colab": {
          "base_uri": "https://localhost:8080/"
        },
        "outputId": "2c54729d-dd57-49e2-f6cb-d53a1d03abf1"
      },
      "execution_count": null,
      "outputs": [
        {
          "output_type": "stream",
          "name": "stdout",
          "text": [
            "1/1 [==============================] - 0s 22ms/step\n",
            "[[False]]\n"
          ]
        }
      ]
    },
    {
      "cell_type": "code",
      "source": [
        "print(ann.predict(sc.transform([[0, 0, 0, 450, 1, 65, 3, 5000, 1, 0, 1,20000]])) > 0.5) #Experiment 3"
      ],
      "metadata": {
        "id": "i5-7sPKq-o0b",
        "colab": {
          "base_uri": "https://localhost:8080/"
        },
        "outputId": "6654be4d-2492-4eca-dee0-43a51ee7a879"
      },
      "execution_count": null,
      "outputs": [
        {
          "output_type": "stream",
          "name": "stdout",
          "text": [
            "1/1 [==============================] - 0s 21ms/step\n",
            "[[False]]\n"
          ]
        }
      ]
    },
    {
      "cell_type": "code",
      "source": [
        "print(ann.predict(sc.transform([[1, 0, 0, 600, 1, 40, 3, 60000, 0, 1, 1,50000]])) > 0.5) #Experiment 4"
      ],
      "metadata": {
        "id": "HQtzfJx7-pVx",
        "colab": {
          "base_uri": "https://localhost:8080/"
        },
        "outputId": "e1e337c2-711b-4786-8aee-a1c401bb2ed9"
      },
      "execution_count": null,
      "outputs": [
        {
          "output_type": "stream",
          "name": "stdout",
          "text": [
            "1/1 [==============================] - 0s 22ms/step\n",
            "[[ True]]\n"
          ]
        }
      ]
    },
    {
      "cell_type": "code",
      "source": [
        "print(ann.predict(sc.transform([[1, 0, 0, 670, 1, 33, 3, 500, 1, 1, 1,100]])) > 0.5) #Experiment 5"
      ],
      "metadata": {
        "id": "bgBKnmpl-wIi",
        "colab": {
          "base_uri": "https://localhost:8080/"
        },
        "outputId": "19fdcf12-7bae-4756-cf8a-bfd507a71491"
      },
      "execution_count": null,
      "outputs": [
        {
          "output_type": "stream",
          "name": "stdout",
          "text": [
            "1/1 [==============================] - 0s 21ms/step\n",
            "[[False]]\n"
          ]
        }
      ]
    }
  ]
}
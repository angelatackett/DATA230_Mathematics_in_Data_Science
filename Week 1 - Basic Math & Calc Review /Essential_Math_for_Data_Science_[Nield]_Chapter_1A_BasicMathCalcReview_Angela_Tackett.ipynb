{
  "nbformat": 4,
  "nbformat_minor": 0,
  "metadata": {
    "colab": {
      "provenance": [],
      "include_colab_link": true
    },
    "kernelspec": {
      "name": "python3",
      "display_name": "Python 3"
    },
    "language_info": {
      "name": "python"
    }
  },
  "cells": [
    {
      "cell_type": "markdown",
      "metadata": {
        "id": "view-in-github",
        "colab_type": "text"
      },
      "source": [
        "<a href=\"https://colab.research.google.com/github/angelatackett/Mathematics-for-Data-Science---DATA230/blob/main/Essential_Math_for_Data_Science_%5BNield%5D_Chapter_1A_BasicMathCalcReview_Angela_Tackett.ipynb\" target=\"_parent\"><img src=\"https://colab.research.google.com/assets/colab-badge.svg\" alt=\"Open In Colab\"/></a>"
      ]
    },
    {
      "cell_type": "markdown",
      "source": [
        "You will be applying what you learned in Chapter 1 in this assignment. Enter the python code needed to solve each problem below."
      ],
      "metadata": {
        "id": "EWCUKbaqg8yM"
      }
    },
    {
      "cell_type": "markdown",
      "source": [
        "# Question 1 Order of Operations\n",
        "\n"
      ],
      "metadata": {
        "id": "RiULWuTaIg_N"
      }
    },
    {
      "cell_type": "markdown",
      "source": [
        "Evaluate the following expression using the correct Order of Operations: 3 + 5 * (7 - 2)^2.\n"
      ],
      "metadata": {
        "id": "aXa4wV5DIlO-"
      }
    },
    {
      "cell_type": "code",
      "source": [
        "Question1 = 3 + (5*((7-2)**2))\n",
        "print(Question1)"
      ],
      "metadata": {
        "id": "a7LYq6NikC0j",
        "colab": {
          "base_uri": "https://localhost:8080/"
        },
        "outputId": "59fdee90-5a77-42e2-cb3f-e73add490764"
      },
      "execution_count": null,
      "outputs": [
        {
          "output_type": "stream",
          "name": "stdout",
          "text": [
            "128\n"
          ]
        }
      ]
    },
    {
      "cell_type": "markdown",
      "source": [
        "# Question 2 Variables\n"
      ],
      "metadata": {
        "id": "QfP_As_8IqRd"
      }
    },
    {
      "cell_type": "markdown",
      "source": [
        "Solve for x: 2x + 7 = 15\n",
        "\n",
        "*Under each comment below, write the next steps in solving the equation. Think of this as showing your work if you were writing on a piece of paper*"
      ],
      "metadata": {
        "id": "YLskMee5Ipwa"
      }
    },
    {
      "cell_type": "code",
      "source": [
        "# Subtract 7 from both sides of the equation\n",
        "#(2*x) + 7 - 7 = 15 - 7\n",
        "\n",
        "# Simplify the right side of the equation\n",
        "#(2*x) = 8\n",
        "\n",
        "# Divide both sides by 2 <----SHOULD STATE TO SIMPLIFY LEFT SIDE, OTHERWISE SHOULD BE (2*x)/2 = 8/2 AT THIS STEP\n",
        "x = 8/2\n",
        "\n",
        "# Simplify the right side of the equation\n",
        "x = 4\n",
        "\n",
        "# Print the value of x\n",
        "print(x)"
      ],
      "metadata": {
        "id": "Yt7MJdfwlaK6",
        "colab": {
          "base_uri": "https://localhost:8080/"
        },
        "outputId": "e4b891c3-7d75-4da2-c797-699ada3f02e4"
      },
      "execution_count": null,
      "outputs": [
        {
          "output_type": "stream",
          "name": "stdout",
          "text": [
            "4\n"
          ]
        }
      ]
    },
    {
      "cell_type": "markdown",
      "source": [
        "# Question 3 Functions"
      ],
      "metadata": {
        "id": "Alhe_RxaLeKk"
      }
    },
    {
      "cell_type": "markdown",
      "source": [
        "Evaluate the function f(x) = 2x^2 - 3x + 1 at x = 4\n"
      ],
      "metadata": {
        "id": "lHvvTfhaLlzZ"
      }
    },
    {
      "cell_type": "code",
      "source": [
        "# Define the function f(x)\n",
        "def f(x):\n",
        "    return ((2*x)**2) - (3*x) + 1\n",
        "\n",
        "# Evaluate the function when x is 4.\n",
        "Question4 = f(4)\n",
        "\n",
        "# Print the result\n",
        "print(Question4)"
      ],
      "metadata": {
        "id": "uwIMzZVJLuBl",
        "colab": {
          "base_uri": "https://localhost:8080/"
        },
        "outputId": "991518f1-21d6-4fff-ebb3-8ddcf3e16705"
      },
      "execution_count": null,
      "outputs": [
        {
          "output_type": "stream",
          "name": "stdout",
          "text": [
            "53\n"
          ]
        }
      ]
    },
    {
      "cell_type": "markdown",
      "source": [
        "# Question 4 Summation"
      ],
      "metadata": {
        "id": "-aeA9vGWMUhJ"
      }
    },
    {
      "cell_type": "markdown",
      "source": [
        "Evaluate the following sum: 1 + 3 + 5 + ... + 99"
      ],
      "metadata": {
        "id": "jkdmfD9pMdU-"
      }
    },
    {
      "cell_type": "code",
      "source": [
        "Summation=sum(range(1,100,2))\n",
        "print(Summation)"
      ],
      "metadata": {
        "id": "8joVZqPhqmFw",
        "colab": {
          "base_uri": "https://localhost:8080/"
        },
        "outputId": "3823b88f-920c-4e25-b86b-43b1240e05e1"
      },
      "execution_count": null,
      "outputs": [
        {
          "output_type": "stream",
          "name": "stdout",
          "text": [
            "2500\n"
          ]
        }
      ]
    },
    {
      "cell_type": "markdown",
      "source": [
        "# Question 5 Logarithms"
      ],
      "metadata": {
        "id": "v-9thGCAOFGZ"
      }
    },
    {
      "cell_type": "markdown",
      "source": [
        "Simplify the following expression: log(base 2) 8 + log(base 2) 4\n"
      ],
      "metadata": {
        "id": "vRNpi1zeOLrq"
      }
    },
    {
      "cell_type": "code",
      "source": [
        "import math\n",
        "\n",
        "Question5 = math.log2(8*4)\n",
        "\n",
        "# Print the result\n",
        "print(Question5)"
      ],
      "metadata": {
        "id": "CkCO8YQ_OODZ",
        "colab": {
          "base_uri": "https://localhost:8080/"
        },
        "outputId": "f267349f-c211-4b4f-bea7-4408a86be58b"
      },
      "execution_count": null,
      "outputs": [
        {
          "output_type": "stream",
          "name": "stdout",
          "text": [
            "5.0\n"
          ]
        }
      ]
    },
    {
      "cell_type": "markdown",
      "source": [
        "# Question 6 Limits"
      ],
      "metadata": {
        "id": "-fzqlrfsOXrz"
      }
    },
    {
      "cell_type": "markdown",
      "source": [
        "Find the limit of the function f(x) = (x^2 - 4)/(x - 2) as x approaches 2\n",
        "\n",
        "\n"
      ],
      "metadata": {
        "id": "gr4LzQdPOcTf"
      }
    },
    {
      "cell_type": "code",
      "source": [
        "\n",
        "from sympy import *\n",
        "\n",
        "x = symbols('x')\n",
        "f = ((x**2)-4)/(x-2)\n",
        "Question6 = limit(f,x,2)\n",
        "\n",
        "print(Question6)"
      ],
      "metadata": {
        "id": "qY2cI-9ft7tU",
        "colab": {
          "base_uri": "https://localhost:8080/"
        },
        "outputId": "84dd11e5-ae3f-4380-cffe-a1747c636f26"
      },
      "execution_count": null,
      "outputs": [
        {
          "output_type": "stream",
          "name": "stdout",
          "text": [
            "4\n"
          ]
        }
      ]
    }
  ]
}

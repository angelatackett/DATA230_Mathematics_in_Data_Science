{
  "nbformat": 4,
  "nbformat_minor": 0,
  "metadata": {
    "colab": {
      "provenance": [],
      "include_colab_link": true
    },
    "kernelspec": {
      "name": "python3",
      "display_name": "Python 3"
    },
    "language_info": {
      "name": "python"
    }
  },
  "cells": [
    {
      "cell_type": "markdown",
      "metadata": {
        "id": "view-in-github",
        "colab_type": "text"
      },
      "source": [
        "<a href=\"https://colab.research.google.com/github/angelatackett/Mathematics-for-Data-Science---DATA230/blob/main/Essential_Math_for_Data_Science_%5BNield%5D_Chapter_1B_BasicMathCalcReview_Angela_Tackett.ipynb\" target=\"_parent\"><img src=\"https://colab.research.google.com/assets/colab-badge.svg\" alt=\"Open In Colab\"/></a>"
      ]
    },
    {
      "cell_type": "markdown",
      "source": [
        "For this assignment, you will have two questions, finding a derivative (also know as differentiation) and finding an integral."
      ],
      "metadata": {
        "id": "wX0iiRfSlUN-"
      }
    },
    {
      "cell_type": "markdown",
      "source": [
        "# Question 1 Differentiation"
      ],
      "metadata": {
        "id": "o5Vxf7urg1Y_"
      }
    },
    {
      "cell_type": "markdown",
      "source": [
        "Find the derivative of the function f(x) = x^3 + 2x^2 + 5x - 7 at x = 2"
      ],
      "metadata": {
        "id": "y5whtnjcGAgC"
      }
    },
    {
      "cell_type": "markdown",
      "source": [
        "Step 1: Install Sympy library (either all functions or just Symbol and Diff)"
      ],
      "metadata": {
        "id": "pqEPkEVPGF8u"
      }
    },
    {
      "cell_type": "code",
      "source": [
        "from sympy import *"
      ],
      "metadata": {
        "id": "hXIgmu4dGcdw"
      },
      "execution_count": null,
      "outputs": []
    },
    {
      "cell_type": "markdown",
      "source": [
        "Step 2: Define your symbols"
      ],
      "metadata": {
        "id": "3WNQRusiGSvg"
      }
    },
    {
      "cell_type": "code",
      "source": [
        "x = symbols('x')"
      ],
      "metadata": {
        "id": "aj1H7yMjGfGh"
      },
      "execution_count": null,
      "outputs": []
    },
    {
      "cell_type": "markdown",
      "source": [
        "\n",
        "Step 3: Define the function f(x)\n",
        "\n"
      ],
      "metadata": {
        "id": "AX0sOIFVGXxV"
      }
    },
    {
      "cell_type": "code",
      "source": [
        "f = x**3 + 2*x**2 + 5*x - 7"
      ],
      "metadata": {
        "id": "uuKNSYOfG0aZ"
      },
      "execution_count": null,
      "outputs": []
    },
    {
      "cell_type": "markdown",
      "source": [
        "Step 4: Calculate the Derivative using the diff() function from Sympy."
      ],
      "metadata": {
        "id": "DkP9aNeCG8xT"
      }
    },
    {
      "cell_type": "code",
      "source": [
        "dx_f = diff(f)\n",
        "print(\"The derivative of f(x) is: \", dx_f)"
      ],
      "metadata": {
        "id": "7yowdC2OHHEb",
        "colab": {
          "base_uri": "https://localhost:8080/"
        },
        "outputId": "93c9856c-2635-4525-fbc2-7c9d3acb5c05"
      },
      "execution_count": null,
      "outputs": [
        {
          "output_type": "stream",
          "name": "stdout",
          "text": [
            "The derivative of f(x) is:  3*x**2 + 4*x + 5\n"
          ]
        }
      ]
    },
    {
      "cell_type": "markdown",
      "source": [
        "Step 5: Evaluate the derivative at x=2 using the subs() function"
      ],
      "metadata": {
        "id": "tMHtfwZnHHo4"
      }
    },
    {
      "cell_type": "code",
      "source": [
        "df_at_2 = dx_f.subs(x,2)\n",
        "print(\"The value of the derivative of f(x) at x = 2 is: \", df_at_2)"
      ],
      "metadata": {
        "id": "6un02kH0Hl0j",
        "colab": {
          "base_uri": "https://localhost:8080/"
        },
        "outputId": "845c988d-2570-423c-c0bc-280f0a7f9ec7"
      },
      "execution_count": null,
      "outputs": [
        {
          "output_type": "stream",
          "name": "stdout",
          "text": [
            "The value of the derivative of f(x) at x = 2 is:  25\n"
          ]
        }
      ]
    },
    {
      "cell_type": "markdown",
      "source": [
        "# Question 2 Integration"
      ],
      "metadata": {
        "id": "qoBoa1srg9Dt"
      }
    },
    {
      "cell_type": "markdown",
      "source": [
        "Evaluate the definite integral of the function f(x) = 2x^2 + 4x + 6 from x = 0 to x = 5"
      ],
      "metadata": {
        "id": "aPbm9tnfIXRK"
      }
    },
    {
      "cell_type": "markdown",
      "source": [
        "Step 1: Install Sympy library (either all functions or just Symbol and Integrate)"
      ],
      "metadata": {
        "id": "bdg6PGyUJJjL"
      }
    },
    {
      "cell_type": "code",
      "source": [
        "from sympy import *"
      ],
      "metadata": {
        "id": "BgFnw_EiJJ4y"
      },
      "execution_count": null,
      "outputs": []
    },
    {
      "cell_type": "markdown",
      "source": [
        "Step 2: Define your symbols"
      ],
      "metadata": {
        "id": "gDHjoUnVJKNo"
      }
    },
    {
      "cell_type": "code",
      "source": [
        "x = symbols('x')"
      ],
      "metadata": {
        "id": "-7_9ERH6JKae"
      },
      "execution_count": null,
      "outputs": []
    },
    {
      "cell_type": "markdown",
      "source": [
        "Step 3: Define the function f(x)"
      ],
      "metadata": {
        "id": "0VZ4_TIbJKmU"
      }
    },
    {
      "cell_type": "code",
      "source": [
        "f = 2*x**2 + 4*x + 6"
      ],
      "metadata": {
        "id": "SqiEp9Y1JKqJ"
      },
      "execution_count": null,
      "outputs": []
    },
    {
      "cell_type": "markdown",
      "source": [
        "Step 4: Calculate the integral by using the integrate function from Sympy."
      ],
      "metadata": {
        "id": "SkmO3dtLJKzV"
      }
    },
    {
      "cell_type": "code",
      "source": [
        "definite_integral = integrate(f,(x,0,5))\n",
        "\n"
      ],
      "metadata": {
        "id": "DkZ9rb1sJK9B"
      },
      "execution_count": null,
      "outputs": []
    },
    {
      "cell_type": "markdown",
      "source": [
        "Step 5: Evaluate the integral from x=0 to x=5"
      ],
      "metadata": {
        "id": "1Y97xNPYKaMT"
      }
    },
    {
      "cell_type": "code",
      "source": [
        "definite_integral_eval = definite_integral.evalf()\n",
        "print(\"The value of the definite integral of f(x) from x = 0 to x = 5 is: %.2f\" %definite_integral_eval)"
      ],
      "metadata": {
        "id": "gQmR33cOKjKC",
        "colab": {
          "base_uri": "https://localhost:8080/"
        },
        "outputId": "08e42b1f-2dda-459d-8c24-99fb613af21b"
      },
      "execution_count": null,
      "outputs": [
        {
          "output_type": "stream",
          "name": "stdout",
          "text": [
            "The value of the definite integral of f(x) from x = 0 to x = 5 is: 163.33\n"
          ]
        }
      ]
    }
  ]
}
